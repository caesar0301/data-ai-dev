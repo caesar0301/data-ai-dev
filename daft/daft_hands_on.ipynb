{
 "cells": [
  {
   "cell_type": "code",
   "execution_count": 4,
   "id": "a6a3370d",
   "metadata": {},
   "outputs": [
    {
     "name": "stdout",
     "output_type": "stream",
     "text": [
      "Collecting daft (from -r requirements.txt (line 2))\n",
      "  Using cached daft-0.5.0-cp39-abi3-manylinux_2_24_x86_64.whl.metadata (11 kB)\n",
      "Collecting pyarrow>=8.0.0 (from daft[ray]->-r requirements.txt (line 1))\n",
      "  Downloading pyarrow-20.0.0-cp312-cp312-manylinux_2_28_x86_64.whl.metadata (3.3 kB)\n",
      "Collecting fsspec (from daft[ray]->-r requirements.txt (line 1))\n",
      "  Using cached fsspec-2025.5.1-py3-none-any.whl.metadata (11 kB)\n",
      "Collecting tqdm (from daft[ray]->-r requirements.txt (line 1))\n",
      "  Using cached tqdm-4.67.1-py3-none-any.whl.metadata (57 kB)\n",
      "Collecting ray>=2.0.0 (from ray[client,data]>=2.0.0; platform_system != \"Windows\" and extra == \"ray\"->daft[ray]->-r requirements.txt (line 1))\n",
      "  Downloading ray-2.46.0-cp312-cp312-manylinux2014_x86_64.whl.metadata (19 kB)\n",
      "Requirement already satisfied: packaging in /home/chenxm/.pyenv/versions/3.12.5/envs/daft/lib/python3.12/site-packages (from daft[ray]->-r requirements.txt (line 1)) (25.0)\n",
      "Collecting click>=7.0 (from ray>=2.0.0->ray[client,data]>=2.0.0; platform_system != \"Windows\" and extra == \"ray\"->daft[ray]->-r requirements.txt (line 1))\n",
      "  Downloading click-8.2.1-py3-none-any.whl.metadata (2.5 kB)\n",
      "Collecting filelock (from ray>=2.0.0->ray[client,data]>=2.0.0; platform_system != \"Windows\" and extra == \"ray\"->daft[ray]->-r requirements.txt (line 1))\n",
      "  Using cached filelock-3.18.0-py3-none-any.whl.metadata (2.9 kB)\n",
      "Collecting jsonschema (from ray>=2.0.0->ray[client,data]>=2.0.0; platform_system != \"Windows\" and extra == \"ray\"->daft[ray]->-r requirements.txt (line 1))\n",
      "  Using cached jsonschema-4.24.0-py3-none-any.whl.metadata (7.8 kB)\n",
      "Collecting msgpack<2.0.0,>=1.0.0 (from ray>=2.0.0->ray[client,data]>=2.0.0; platform_system != \"Windows\" and extra == \"ray\"->daft[ray]->-r requirements.txt (line 1))\n",
      "  Downloading msgpack-1.1.0-cp312-cp312-manylinux_2_17_x86_64.manylinux2014_x86_64.whl.metadata (8.4 kB)\n",
      "Collecting protobuf!=3.19.5,>=3.15.3 (from ray>=2.0.0->ray[client,data]>=2.0.0; platform_system != \"Windows\" and extra == \"ray\"->daft[ray]->-r requirements.txt (line 1))\n",
      "  Using cached protobuf-6.31.1-cp39-abi3-manylinux2014_x86_64.whl.metadata (593 bytes)\n",
      "Collecting pyyaml (from ray>=2.0.0->ray[client,data]>=2.0.0; platform_system != \"Windows\" and extra == \"ray\"->daft[ray]->-r requirements.txt (line 1))\n",
      "  Using cached PyYAML-6.0.2-cp312-cp312-manylinux_2_17_x86_64.manylinux2014_x86_64.whl.metadata (2.1 kB)\n",
      "Collecting requests (from ray>=2.0.0->ray[client,data]>=2.0.0; platform_system != \"Windows\" and extra == \"ray\"->daft[ray]->-r requirements.txt (line 1))\n",
      "  Using cached requests-2.32.3-py3-none-any.whl.metadata (4.6 kB)\n",
      "Collecting grpcio (from ray[client,data]>=2.0.0; platform_system != \"Windows\" and extra == \"ray\"->daft[ray]->-r requirements.txt (line 1))\n",
      "  Using cached grpcio-1.71.0-cp312-cp312-manylinux_2_17_x86_64.manylinux2014_x86_64.whl.metadata (3.8 kB)\n",
      "Collecting numpy>=1.20 (from ray[client,data]>=2.0.0; platform_system != \"Windows\" and extra == \"ray\"->daft[ray]->-r requirements.txt (line 1))\n",
      "  Downloading numpy-2.2.6-cp312-cp312-manylinux_2_17_x86_64.manylinux2014_x86_64.whl.metadata (62 kB)\n",
      "Collecting pandas>=1.3 (from ray[client,data]>=2.0.0; platform_system != \"Windows\" and extra == \"ray\"->daft[ray]->-r requirements.txt (line 1))\n",
      "  Using cached pandas-2.2.3-cp312-cp312-manylinux_2_17_x86_64.manylinux2014_x86_64.whl.metadata (89 kB)\n",
      "Requirement already satisfied: python-dateutil>=2.8.2 in /home/chenxm/.pyenv/versions/3.12.5/envs/daft/lib/python3.12/site-packages (from pandas>=1.3->ray[client,data]>=2.0.0; platform_system != \"Windows\" and extra == \"ray\"->daft[ray]->-r requirements.txt (line 1)) (2.9.0.post0)\n",
      "Collecting pytz>=2020.1 (from pandas>=1.3->ray[client,data]>=2.0.0; platform_system != \"Windows\" and extra == \"ray\"->daft[ray]->-r requirements.txt (line 1))\n",
      "  Downloading pytz-2025.2-py2.py3-none-any.whl.metadata (22 kB)\n",
      "Collecting tzdata>=2022.7 (from pandas>=1.3->ray[client,data]>=2.0.0; platform_system != \"Windows\" and extra == \"ray\"->daft[ray]->-r requirements.txt (line 1))\n",
      "  Using cached tzdata-2025.2-py2.py3-none-any.whl.metadata (1.4 kB)\n",
      "Collecting attrs>=22.2.0 (from jsonschema->ray>=2.0.0->ray[client,data]>=2.0.0; platform_system != \"Windows\" and extra == \"ray\"->daft[ray]->-r requirements.txt (line 1))\n",
      "  Downloading attrs-25.3.0-py3-none-any.whl.metadata (10 kB)\n",
      "Collecting jsonschema-specifications>=2023.03.6 (from jsonschema->ray>=2.0.0->ray[client,data]>=2.0.0; platform_system != \"Windows\" and extra == \"ray\"->daft[ray]->-r requirements.txt (line 1))\n",
      "  Using cached jsonschema_specifications-2025.4.1-py3-none-any.whl.metadata (2.9 kB)\n",
      "Collecting referencing>=0.28.4 (from jsonschema->ray>=2.0.0->ray[client,data]>=2.0.0; platform_system != \"Windows\" and extra == \"ray\"->daft[ray]->-r requirements.txt (line 1))\n",
      "  Using cached referencing-0.36.2-py3-none-any.whl.metadata (2.8 kB)\n",
      "Collecting rpds-py>=0.7.1 (from jsonschema->ray>=2.0.0->ray[client,data]>=2.0.0; platform_system != \"Windows\" and extra == \"ray\"->daft[ray]->-r requirements.txt (line 1))\n",
      "  Downloading rpds_py-0.25.1-cp312-cp312-manylinux_2_17_x86_64.manylinux2014_x86_64.whl.metadata (4.1 kB)\n",
      "Collecting charset-normalizer<4,>=2 (from requests->ray>=2.0.0->ray[client,data]>=2.0.0; platform_system != \"Windows\" and extra == \"ray\"->daft[ray]->-r requirements.txt (line 1))\n",
      "  Downloading charset_normalizer-3.4.2-cp312-cp312-manylinux_2_17_x86_64.manylinux2014_x86_64.whl.metadata (35 kB)\n",
      "Collecting idna<4,>=2.5 (from requests->ray>=2.0.0->ray[client,data]>=2.0.0; platform_system != \"Windows\" and extra == \"ray\"->daft[ray]->-r requirements.txt (line 1))\n",
      "  Using cached idna-3.10-py3-none-any.whl.metadata (10 kB)\n",
      "Collecting urllib3<3,>=1.21.1 (from requests->ray>=2.0.0->ray[client,data]>=2.0.0; platform_system != \"Windows\" and extra == \"ray\"->daft[ray]->-r requirements.txt (line 1))\n",
      "  Downloading urllib3-2.4.0-py3-none-any.whl.metadata (6.5 kB)\n",
      "Collecting certifi>=2017.4.17 (from requests->ray>=2.0.0->ray[client,data]>=2.0.0; platform_system != \"Windows\" and extra == \"ray\"->daft[ray]->-r requirements.txt (line 1))\n",
      "  Downloading certifi-2025.4.26-py3-none-any.whl.metadata (2.5 kB)\n",
      "Requirement already satisfied: six>=1.5 in /home/chenxm/.pyenv/versions/3.12.5/envs/daft/lib/python3.12/site-packages (from python-dateutil>=2.8.2->pandas>=1.3->ray[client,data]>=2.0.0; platform_system != \"Windows\" and extra == \"ray\"->daft[ray]->-r requirements.txt (line 1)) (1.17.0)\n",
      "Collecting typing-extensions>=4.4.0 (from referencing>=0.28.4->jsonschema->ray>=2.0.0->ray[client,data]>=2.0.0; platform_system != \"Windows\" and extra == \"ray\"->daft[ray]->-r requirements.txt (line 1))\n",
      "  Downloading typing_extensions-4.13.2-py3-none-any.whl.metadata (3.0 kB)\n",
      "Using cached daft-0.5.0-cp39-abi3-manylinux_2_24_x86_64.whl (43.6 MB)\n",
      "Downloading pyarrow-20.0.0-cp312-cp312-manylinux_2_28_x86_64.whl (42.3 MB)\n",
      "\u001b[2K   \u001b[38;2;114;156;31m━━━━━━━━━━━━━━━━━━━━━━━━━━━━━━━━━━━━━━━━\u001b[0m \u001b[32m42.3/42.3 MB\u001b[0m \u001b[31m8.8 MB/s\u001b[0m eta \u001b[36m0:00:00\u001b[0m0m eta \u001b[36m0:00:01\u001b[0m[36m0:00:01\u001b[0m\n",
      "\u001b[?25hDownloading ray-2.46.0-cp312-cp312-manylinux2014_x86_64.whl (68.5 MB)\n",
      "\u001b[2K   \u001b[38;2;114;156;31m━━━━━━━━━━━━━━━━━━━━━━━━━━━━━━━━━━━━━━━━\u001b[0m \u001b[32m68.5/68.5 MB\u001b[0m \u001b[31m9.1 MB/s\u001b[0m eta \u001b[36m0:00:00\u001b[0m0m eta \u001b[36m0:00:01\u001b[0m0:01\u001b[0m:01\u001b[0m\n",
      "\u001b[?25hUsing cached fsspec-2025.5.1-py3-none-any.whl (199 kB)\n",
      "Using cached tqdm-4.67.1-py3-none-any.whl (78 kB)\n",
      "Downloading click-8.2.1-py3-none-any.whl (102 kB)\n",
      "Downloading msgpack-1.1.0-cp312-cp312-manylinux_2_17_x86_64.manylinux2014_x86_64.whl (401 kB)\n",
      "Downloading numpy-2.2.6-cp312-cp312-manylinux_2_17_x86_64.manylinux2014_x86_64.whl (16.5 MB)\n",
      "\u001b[2K   \u001b[38;2;114;156;31m━━━━━━━━━━━━━━━━━━━━━━━━━━━━━━━━━━━━━━━━\u001b[0m \u001b[32m16.5/16.5 MB\u001b[0m \u001b[31m8.2 MB/s\u001b[0m eta \u001b[36m0:00:00\u001b[0m0m eta \u001b[36m0:00:01\u001b[0m[36m0:00:01\u001b[0m\n",
      "\u001b[?25hUsing cached pandas-2.2.3-cp312-cp312-manylinux_2_17_x86_64.manylinux2014_x86_64.whl (12.7 MB)\n",
      "Using cached protobuf-6.31.1-cp39-abi3-manylinux2014_x86_64.whl (321 kB)\n",
      "Using cached filelock-3.18.0-py3-none-any.whl (16 kB)\n",
      "Using cached grpcio-1.71.0-cp312-cp312-manylinux_2_17_x86_64.manylinux2014_x86_64.whl (5.9 MB)\n",
      "Using cached jsonschema-4.24.0-py3-none-any.whl (88 kB)\n",
      "Using cached PyYAML-6.0.2-cp312-cp312-manylinux_2_17_x86_64.manylinux2014_x86_64.whl (767 kB)\n",
      "Using cached requests-2.32.3-py3-none-any.whl (64 kB)\n",
      "Downloading attrs-25.3.0-py3-none-any.whl (63 kB)\n",
      "Downloading certifi-2025.4.26-py3-none-any.whl (159 kB)\n",
      "Downloading charset_normalizer-3.4.2-cp312-cp312-manylinux_2_17_x86_64.manylinux2014_x86_64.whl (148 kB)\n",
      "Using cached idna-3.10-py3-none-any.whl (70 kB)\n",
      "Using cached jsonschema_specifications-2025.4.1-py3-none-any.whl (18 kB)\n",
      "Downloading pytz-2025.2-py2.py3-none-any.whl (509 kB)\n",
      "Using cached referencing-0.36.2-py3-none-any.whl (26 kB)\n",
      "Downloading rpds_py-0.25.1-cp312-cp312-manylinux_2_17_x86_64.manylinux2014_x86_64.whl (390 kB)\n",
      "Using cached tzdata-2025.2-py2.py3-none-any.whl (347 kB)\n",
      "Downloading urllib3-2.4.0-py3-none-any.whl (128 kB)\n",
      "Downloading typing_extensions-4.13.2-py3-none-any.whl (45 kB)\n",
      "Installing collected packages: pytz, urllib3, tzdata, typing-extensions, tqdm, rpds-py, pyyaml, pyarrow, protobuf, numpy, msgpack, idna, grpcio, fsspec, filelock, click, charset-normalizer, certifi, attrs, requests, referencing, pandas, daft, jsonschema-specifications, jsonschema, ray\n",
      "Successfully installed attrs-25.3.0 certifi-2025.4.26 charset-normalizer-3.4.2 click-8.2.1 daft-0.5.0 filelock-3.18.0 fsspec-2025.5.1 grpcio-1.71.0 idna-3.10 jsonschema-4.24.0 jsonschema-specifications-2025.4.1 msgpack-1.1.0 numpy-2.2.6 pandas-2.2.3 protobuf-6.31.1 pyarrow-20.0.0 pytz-2025.2 pyyaml-6.0.2 ray-2.46.0 referencing-0.36.2 requests-2.32.3 rpds-py-0.25.1 tqdm-4.67.1 typing-extensions-4.13.2 tzdata-2025.2 urllib3-2.4.0\n",
      "\n",
      "\u001b[1m[\u001b[0m\u001b[34;49mnotice\u001b[0m\u001b[1;39;49m]\u001b[0m\u001b[39;49m A new release of pip is available: \u001b[0m\u001b[31;49m24.2\u001b[0m\u001b[39;49m -> \u001b[0m\u001b[32;49m25.1.1\u001b[0m\n",
      "\u001b[1m[\u001b[0m\u001b[34;49mnotice\u001b[0m\u001b[1;39;49m]\u001b[0m\u001b[39;49m To update, run: \u001b[0m\u001b[32;49mpip install --upgrade pip\u001b[0m\n"
     ]
    }
   ],
   "source": [
    "!pip install -r requirements.txt"
   ]
  },
  {
   "cell_type": "markdown",
   "id": "14af14d2",
   "metadata": {},
   "source": [
    "# Lazy Plan"
   ]
  },
  {
   "cell_type": "code",
   "execution_count": null,
   "id": "715c2ac7",
   "metadata": {},
   "outputs": [
    {
     "name": "stderr",
     "output_type": "stream",
     "text": [
      "/home/chenxm/.pyenv/versions/daft/lib/python3.12/site-packages/tqdm/auto.py:21: TqdmWarning: IProgress not found. Please update jupyter and ipywidgets. See https://ipywidgets.readthedocs.io/en/stable/user_install.html\n",
      "  from .autonotebook import tqdm as notebook_tqdm\n",
      "2025-06-01 23:31:49,668\tINFO util.py:154 -- Missing packages: ['ipywidgets']. Run `pip install -U ipywidgets`, then restart the notebook server for rich notebook output.\n",
      "failed to load region from IMDS err=failed to load IMDS session token: dispatch failure: timeout: error trying to connect: HTTP connect timeout occurred after 1s: HTTP connect timeout occurred after 1s: timed out (FailedToLoadToken(FailedToLoadToken { source: DispatchFailure(DispatchFailure { source: ConnectorError { kind: Timeout, source: hyper::Error(Connect, HttpTimeoutError { kind: \"HTTP connect\", duration: 1s }), connection: Unknown } }) }))\n",
      "failed to load region from IMDS err=failed to load IMDS session token: dispatch failure: timeout: error trying to connect: HTTP connect timeout occurred after 1s: HTTP connect timeout occurred after 1s: timed out (FailedToLoadToken(FailedToLoadToken { source: DispatchFailure(DispatchFailure { source: ConnectorError { kind: Timeout, source: hyper::Error(Connect, HttpTimeoutError { kind: \"HTTP connect\", duration: 1s }), connection: Unknown } }) }))\n",
      "S3 Credentials not provided or found when making client for us-east-1! Reverting to Anonymous mode. the credential provider was not enabled\n"
     ]
    }
   ],
   "source": [
    "import daft\n",
    "\n",
    "df2 = daft.read_parquet(\"s3://daft-public-data/tutorials/10-min/sample-data-dog-owners-partitioned.pq/**\")\n",
    "df2.where(df[\"country\"] == \"Canada\").explain(show_all=True)"
   ]
  }
 ],
 "metadata": {
  "kernelspec": {
   "display_name": "daft",
   "language": "python",
   "name": "python3"
  },
  "language_info": {
   "codemirror_mode": {
    "name": "ipython",
    "version": 3
   },
   "file_extension": ".py",
   "mimetype": "text/x-python",
   "name": "python",
   "nbconvert_exporter": "python",
   "pygments_lexer": "ipython3",
   "version": "3.12.5"
  }
 },
 "nbformat": 4,
 "nbformat_minor": 5
}
