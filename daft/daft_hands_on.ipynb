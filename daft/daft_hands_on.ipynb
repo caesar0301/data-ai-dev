{
 "cells": [
  {
   "cell_type": "markdown",
   "id": "14af14d2",
   "metadata": {},
   "source": [
    "# Lazy Plan"
   ]
  },
  {
   "cell_type": "code",
   "execution_count": 4,
   "id": "715c2ac7",
   "metadata": {},
   "outputs": [
    {
     "name": "stdout",
     "output_type": "stream",
     "text": [
      "== Unoptimized Logical Plan ==\n",
      "\n",
      "* Sort: Sort by = (col(a), ascending, nulls last)\n",
      "|\n",
      "* Filter: col(b) == lit(true)\n",
      "|\n",
      "* Source:\n",
      "|   Number of partitions = 1\n",
      "|   Output schema = a#Int64, b#Boolean\n",
      "\n",
      "\n",
      "== Optimized Logical Plan ==\n",
      "\n",
      "* Sort: Sort by = (col(a), ascending, nulls last)\n",
      "|   Stats = { Approx num rows = 2, Approx size bytes = 10 B, Accumulated selectivity\n",
      "|     = 0.20 }\n",
      "|\n",
      "* Filter: col(b)\n",
      "|   Stats = { Approx num rows = 2, Approx size bytes = 10 B, Accumulated selectivity\n",
      "|     = 0.20 }\n",
      "|\n",
      "* Source:\n",
      "|   Number of partitions = 1\n",
      "|   Output schema = a#Int64, b#Boolean\n",
      "|   Stats = { Approx num rows = 6, Approx size bytes = 49 B, Accumulated selectivity\n",
      "|     = 1.00 }\n",
      "\n",
      "\n",
      "== Physical Plan ==\n",
      "\n",
      "* Sort: Sort by = (col(a), ascending, nulls last)\n",
      "|   Stats = { Approx num rows = 2, Approx size bytes = 10 B, Accumulated selectivity\n",
      "|     = 0.20 }\n",
      "|\n",
      "* Filter: col(b)\n",
      "|   Stats = { Approx num rows = 2, Approx size bytes = 10 B, Accumulated selectivity\n",
      "|     = 0.20 }\n",
      "|\n",
      "* InMemorySource:\n",
      "|   Schema = a#Int64, b#Boolean\n",
      "|   Size bytes = 49\n",
      "|   Stats = { Approx num rows = 6, Approx size bytes = 49 B, Accumulated selectivity\n",
      "|     = 1.00 }\n",
      "\n"
     ]
    }
   ],
   "source": [
    "import daft\n",
    "\n",
    "df = daft.from_pydict({\n",
    "    \"a\": [3, 2, 5, 6, 1, 4],\n",
    "    \"b\": [True, False, False, True, True, False]\n",
    "})\n",
    "df.where(df[\"b\"] == True).sort(df[\"a\"]).explain(show_all=True)"
   ]
  },
  {
   "cell_type": "markdown",
   "id": "f67e7b8f",
   "metadata": {},
   "source": [
    "# Expressions"
   ]
  },
  {
   "cell_type": "code",
   "execution_count": 5,
   "id": "e97bd121",
   "metadata": {},
   "outputs": [
    {
     "data": {
      "text/html": [
       "<div>\n",
       "<table class=\"dataframe\">\n",
       "<thead><tr><th style=\"text-wrap: nowrap; max-width:192px; overflow:auto; text-align:left\">a<br />Int64</th><th style=\"text-wrap: nowrap; max-width:192px; overflow:auto; text-align:left\">b<br />Boolean</th></tr></thead>\n",
       "<tbody>\n",
       "<tr><td><div style=\"text-align:left; max-width:192px; max-height:64px; overflow:auto\">1</div></td><td><div style=\"text-align:left; max-width:192px; max-height:64px; overflow:auto\">true</div></td></tr>\n",
       "<tr><td><div style=\"text-align:left; max-width:192px; max-height:64px; overflow:auto\">3</div></td><td><div style=\"text-align:left; max-width:192px; max-height:64px; overflow:auto\">true</div></td></tr>\n",
       "<tr><td><div style=\"text-align:left; max-width:192px; max-height:64px; overflow:auto\">6</div></td><td><div style=\"text-align:left; max-width:192px; max-height:64px; overflow:auto\">true</div></td></tr>\n",
       "</tbody>\n",
       "</table>\n",
       "<small>(Showing first 3 of 3 rows)</small>\n",
       "</div>"
      ],
      "text/plain": [
       "╭───────┬─────────╮\n",
       "│ a     ┆ b       │\n",
       "│ ---   ┆ ---     │\n",
       "│ Int64 ┆ Boolean │\n",
       "╞═══════╪═════════╡\n",
       "│ 1     ┆ true    │\n",
       "├╌╌╌╌╌╌╌┼╌╌╌╌╌╌╌╌╌┤\n",
       "│ 3     ┆ true    │\n",
       "├╌╌╌╌╌╌╌┼╌╌╌╌╌╌╌╌╌┤\n",
       "│ 6     ┆ true    │\n",
       "╰───────┴─────────╯\n",
       "\n",
       "(Showing first 3 of 3 rows)"
      ]
     },
     "execution_count": 5,
     "metadata": {},
     "output_type": "execute_result"
    }
   ],
   "source": [
    "df.where(df[\"b\"] == True).sort(df[\"a\"]).collect()"
   ]
  },
  {
   "cell_type": "code",
   "execution_count": 6,
   "id": "9818f546",
   "metadata": {},
   "outputs": [
    {
     "data": {
      "text/html": [
       "<div>\n",
       "<table class=\"dataframe\">\n",
       "<thead><tr><th style=\"text-wrap: nowrap; max-width:192px; overflow:auto; text-align:left\">a<br />Int64</th></tr></thead>\n",
       "<tbody>\n",
       "<tr><td><div style=\"text-align:left; max-width:192px; max-height:64px; overflow:auto\">3</div></td></tr>\n",
       "<tr><td><div style=\"text-align:left; max-width:192px; max-height:64px; overflow:auto\">2</div></td></tr>\n",
       "<tr><td><div style=\"text-align:left; max-width:192px; max-height:64px; overflow:auto\">5</div></td></tr>\n",
       "<tr><td><div style=\"text-align:left; max-width:192px; max-height:64px; overflow:auto\">6</div></td></tr>\n",
       "<tr><td><div style=\"text-align:left; max-width:192px; max-height:64px; overflow:auto\">1</div></td></tr>\n",
       "<tr><td><div style=\"text-align:left; max-width:192px; max-height:64px; overflow:auto\">4</div></td></tr>\n",
       "</tbody>\n",
       "</table>\n",
       "<small>(Showing first 6 of 6 rows)</small>\n",
       "</div>"
      ],
      "text/plain": [
       "╭───────╮\n",
       "│ a     │\n",
       "│ ---   │\n",
       "│ Int64 │\n",
       "╞═══════╡\n",
       "│ 3     │\n",
       "├╌╌╌╌╌╌╌┤\n",
       "│ 2     │\n",
       "├╌╌╌╌╌╌╌┤\n",
       "│ 5     │\n",
       "├╌╌╌╌╌╌╌┤\n",
       "│ 6     │\n",
       "├╌╌╌╌╌╌╌┤\n",
       "│ 1     │\n",
       "├╌╌╌╌╌╌╌┤\n",
       "│ 4     │\n",
       "╰───────╯\n",
       "\n",
       "(Showing first 6 of 6 rows)"
      ]
     },
     "metadata": {},
     "output_type": "display_data"
    }
   ],
   "source": [
    "df.exclude(\"b\").show()"
   ]
  },
  {
   "cell_type": "code",
   "execution_count": 7,
   "id": "89dfde89",
   "metadata": {},
   "outputs": [
    {
     "data": {
      "text/html": [
       "<div>\n",
       "<table class=\"dataframe\">\n",
       "<thead><tr><th style=\"text-wrap: nowrap; max-width:192px; overflow:auto; text-align:left\">a<br />Int64</th><th style=\"text-wrap: nowrap; max-width:192px; overflow:auto; text-align:left\">b<br />Boolean</th><th style=\"text-wrap: nowrap; max-width:192px; overflow:auto; text-align:left\">c<br />Float64</th></tr></thead>\n",
       "<tbody>\n",
       "<tr><td><div style=\"text-align:left; max-width:192px; max-height:64px; overflow:auto\">3</div></td><td><div style=\"text-align:left; max-width:192px; max-height:64px; overflow:auto\">true</div></td><td><div style=\"text-align:left; max-width:192px; max-height:64px; overflow:auto\">6</div></td></tr>\n",
       "<tr><td><div style=\"text-align:left; max-width:192px; max-height:64px; overflow:auto\">2</div></td><td><div style=\"text-align:left; max-width:192px; max-height:64px; overflow:auto\">false</div></td><td><div style=\"text-align:left; max-width:192px; max-height:64px; overflow:auto\">2</div></td></tr>\n",
       "<tr><td><div style=\"text-align:left; max-width:192px; max-height:64px; overflow:auto\">5</div></td><td><div style=\"text-align:left; max-width:192px; max-height:64px; overflow:auto\">false</div></td><td><div style=\"text-align:left; max-width:192px; max-height:64px; overflow:auto\">5</div></td></tr>\n",
       "<tr><td><div style=\"text-align:left; max-width:192px; max-height:64px; overflow:auto\">6</div></td><td><div style=\"text-align:left; max-width:192px; max-height:64px; overflow:auto\">true</div></td><td><div style=\"text-align:left; max-width:192px; max-height:64px; overflow:auto\">12</div></td></tr>\n",
       "<tr><td><div style=\"text-align:left; max-width:192px; max-height:64px; overflow:auto\">1</div></td><td><div style=\"text-align:left; max-width:192px; max-height:64px; overflow:auto\">true</div></td><td><div style=\"text-align:left; max-width:192px; max-height:64px; overflow:auto\">2</div></td></tr>\n",
       "<tr><td><div style=\"text-align:left; max-width:192px; max-height:64px; overflow:auto\">4</div></td><td><div style=\"text-align:left; max-width:192px; max-height:64px; overflow:auto\">false</div></td><td><div style=\"text-align:left; max-width:192px; max-height:64px; overflow:auto\">4</div></td></tr>\n",
       "</tbody>\n",
       "</table>\n",
       "<small>(Showing first 6 of 6 rows)</small>\n",
       "</div>"
      ],
      "text/plain": [
       "╭───────┬─────────┬─────────╮\n",
       "│ a     ┆ b       ┆ c       │\n",
       "│ ---   ┆ ---     ┆ ---     │\n",
       "│ Int64 ┆ Boolean ┆ Float64 │\n",
       "╞═══════╪═════════╪═════════╡\n",
       "│ 3     ┆ true    ┆ 6       │\n",
       "├╌╌╌╌╌╌╌┼╌╌╌╌╌╌╌╌╌┼╌╌╌╌╌╌╌╌╌┤\n",
       "│ 2     ┆ false   ┆ 2       │\n",
       "├╌╌╌╌╌╌╌┼╌╌╌╌╌╌╌╌╌┼╌╌╌╌╌╌╌╌╌┤\n",
       "│ 5     ┆ false   ┆ 5       │\n",
       "├╌╌╌╌╌╌╌┼╌╌╌╌╌╌╌╌╌┼╌╌╌╌╌╌╌╌╌┤\n",
       "│ 6     ┆ true    ┆ 12      │\n",
       "├╌╌╌╌╌╌╌┼╌╌╌╌╌╌╌╌╌┼╌╌╌╌╌╌╌╌╌┤\n",
       "│ 1     ┆ true    ┆ 2       │\n",
       "├╌╌╌╌╌╌╌┼╌╌╌╌╌╌╌╌╌┼╌╌╌╌╌╌╌╌╌┤\n",
       "│ 4     ┆ false   ┆ 4       │\n",
       "╰───────┴─────────┴─────────╯\n",
       "\n",
       "(Showing first 6 of 6 rows)"
      ]
     },
     "metadata": {},
     "output_type": "display_data"
    }
   ],
   "source": [
    "from daft import col\n",
    "\n",
    "df = df.with_column(\n",
    "    \"c\",\n",
    "    col(\"a\") * col(\"b\").if_else(1.0, 0.5) * 2\n",
    ")\n",
    "df.show()"
   ]
  },
  {
   "cell_type": "code",
   "execution_count": 8,
   "id": "90a06a52",
   "metadata": {},
   "outputs": [
    {
     "data": {
      "text/html": [
       "<div>\n",
       "<table class=\"dataframe\">\n",
       "<thead><tr><th style=\"text-wrap: nowrap; max-width:192px; overflow:auto; text-align:left\">urls<br />Utf8</th><th style=\"text-wrap: nowrap; max-width:192px; overflow:auto; text-align:left\">data<br />Binary</th></tr></thead>\n",
       "<tbody>\n",
       "<tr><td><div style=\"text-align:left; max-width:192px; max-height:64px; overflow:auto\">https://www.baidu.com</div></td><td><div style=\"text-align:left; max-width:192px; max-height:64px; overflow:auto\">b\"&lt;html&gt;\\r\\n&lt;head&gt;\\r\\n\\t&lt;script&gt;\\r\\n\"...</div></td></tr>\n",
       "</tbody>\n",
       "</table>\n",
       "<small>(Showing first 1 of 1 rows)</small>\n",
       "</div>"
      ],
      "text/plain": [
       "╭───────────────────────┬────────────────────────────────╮\n",
       "│ urls                  ┆ data                           │\n",
       "│ ---                   ┆ ---                            │\n",
       "│ Utf8                  ┆ Binary                         │\n",
       "╞═══════════════════════╪════════════════════════════════╡\n",
       "│ https://www.baidu.com ┆ b\"<html>\\r\\n<head>\\r\\n\\t<scri… │\n",
       "╰───────────────────────┴────────────────────────────────╯\n",
       "\n",
       "(Showing first 1 of 1 rows)"
      ]
     },
     "execution_count": 8,
     "metadata": {},
     "output_type": "execute_result"
    }
   ],
   "source": [
    "\n",
    "df = daft.from_pydict({\n",
    "    \"urls\": [\n",
    "        \"https://www.baidu.com\",\n",
    "    ],\n",
    "})\n",
    "df = df.with_column(\"data\", df[\"urls\"].url.download())\n",
    "df.collect()"
   ]
  },
  {
   "cell_type": "markdown",
   "id": "d4795433",
   "metadata": {},
   "source": [
    "# UDF"
   ]
  },
  {
   "cell_type": "code",
   "execution_count": 9,
   "id": "70f78c6c",
   "metadata": {},
   "outputs": [],
   "source": [
    "import daft\n",
    "import numpy as np\n",
    "\n",
    "df = daft.from_pydict({\n",
    "    # the `image` column contains images represented as 2D numpy arrays\n",
    "    \"image\": [np.ones((128, 128)) for i in range(16)],\n",
    "    # the `crop` column contains a box to crop from our image, represented as a list of integers: [x1, x2, y1, y2]\n",
    "    \"crop\": [[0, 1, 0, 1] for i in range(16)],\n",
    "})"
   ]
  },
  {
   "cell_type": "code",
   "execution_count": 10,
   "id": "ca7b7c9b",
   "metadata": {},
   "outputs": [
    {
     "data": {
      "text/html": [
       "<div>\n",
       "<table class=\"dataframe\">\n",
       "<thead><tr><th style=\"text-wrap: nowrap; max-width:192px; overflow:auto; text-align:left\">image<br />Tensor(Float64)</th><th style=\"text-wrap: nowrap; max-width:192px; overflow:auto; text-align:left\">crop<br />List[Int64]</th><th style=\"text-wrap: nowrap; max-width:192px; overflow:auto; text-align:left\">flattened_image<br />Python</th></tr></thead>\n",
       "<tbody>\n",
       "<tr><td><div style=\"text-align:left; max-width:192px; max-height:64px; overflow:auto\">&lt;Tensor shape=(128, 128)&gt;</div></td><td><div style=\"text-align:left; max-width:192px; max-height:64px; overflow:auto\">[0, 1, 0, 1]</div></td><td><div style=\"text-align:left; max-width:192px; max-height:64px; overflow:auto\">&ltnp.ndarray<br>shape=(16384,)<br>dtype=float64&gt</div></td></tr>\n",
       "<tr><td><div style=\"text-align:left; max-width:192px; max-height:64px; overflow:auto\">&lt;Tensor shape=(128, 128)&gt;</div></td><td><div style=\"text-align:left; max-width:192px; max-height:64px; overflow:auto\">[0, 1, 0, 1]</div></td><td><div style=\"text-align:left; max-width:192px; max-height:64px; overflow:auto\">&ltnp.ndarray<br>shape=(16384,)<br>dtype=float64&gt</div></td></tr>\n",
       "</tbody>\n",
       "</table>\n",
       "<small>(Showing first 2 rows)</small>\n",
       "</div>"
      ],
      "text/plain": [
       "╭───────────────────────────┬──────────────┬─────────────────────────╮\n",
       "│ image                     ┆ crop         ┆ flattened_image         │\n",
       "│ ---                       ┆ ---          ┆ ---                     │\n",
       "│ Tensor(Float64)           ┆ List[Int64]  ┆ Python                  │\n",
       "╞═══════════════════════════╪══════════════╪═════════════════════════╡\n",
       "│ <Tensor shape=(128, 128)> ┆ [0, 1, 0, 1] ┆ [1. 1. 1. ... 1. 1. 1.] │\n",
       "├╌╌╌╌╌╌╌╌╌╌╌╌╌╌╌╌╌╌╌╌╌╌╌╌╌╌╌┼╌╌╌╌╌╌╌╌╌╌╌╌╌╌┼╌╌╌╌╌╌╌╌╌╌╌╌╌╌╌╌╌╌╌╌╌╌╌╌╌┤\n",
       "│ <Tensor shape=(128, 128)> ┆ [0, 1, 0, 1] ┆ [1. 1. 1. ... 1. 1. 1.] │\n",
       "╰───────────────────────────┴──────────────┴─────────────────────────╯\n",
       "\n",
       "(Showing first 2 rows)"
      ]
     },
     "metadata": {},
     "output_type": "display_data"
    }
   ],
   "source": [
    "df.with_column(\n",
    "    \"flattened_image\",\n",
    "    df[\"image\"].apply(lambda img: img.flatten(), return_dtype=daft.DataType.python())\n",
    ").show(2)"
   ]
  },
  {
   "cell_type": "code",
   "execution_count": 11,
   "id": "235a6cee",
   "metadata": {},
   "outputs": [
    {
     "data": {
      "text/html": [
       "<div>\n",
       "<table class=\"dataframe\">\n",
       "<thead><tr><th style=\"text-wrap: nowrap; max-width:192px; overflow:auto; text-align:left\">image<br />Tensor(Float64)</th><th style=\"text-wrap: nowrap; max-width:192px; overflow:auto; text-align:left\">crop<br />List[Int64]</th><th style=\"text-wrap: nowrap; max-width:192px; overflow:auto; text-align:left\">cropped<br />Python</th></tr></thead>\n",
       "<tbody>\n",
       "<tr><td><div style=\"text-align:left; max-width:192px; max-height:64px; overflow:auto\">&lt;Tensor shape=(128, 128)&gt;</div></td><td><div style=\"text-align:left; max-width:192px; max-height:64px; overflow:auto\">[0, 1, 0, 1]</div></td><td><div style=\"text-align:left; max-width:192px; max-height:64px; overflow:auto\">&ltnp.ndarray<br>shape=(2, 2)<br>dtype=float64&gt</div></td></tr>\n",
       "<tr><td><div style=\"text-align:left; max-width:192px; max-height:64px; overflow:auto\">&lt;Tensor shape=(128, 128)&gt;</div></td><td><div style=\"text-align:left; max-width:192px; max-height:64px; overflow:auto\">[0, 1, 0, 1]</div></td><td><div style=\"text-align:left; max-width:192px; max-height:64px; overflow:auto\">&ltnp.ndarray<br>shape=(2, 2)<br>dtype=float64&gt</div></td></tr>\n",
       "</tbody>\n",
       "</table>\n",
       "<small>(Showing first 2 rows)</small>\n",
       "</div>"
      ],
      "text/plain": [
       "╭───────────────────────────┬──────────────┬───────────╮\n",
       "│ image                     ┆ crop         ┆ cropped   │\n",
       "│ ---                       ┆ ---          ┆ ---       │\n",
       "│ Tensor(Float64)           ┆ List[Int64]  ┆ Python    │\n",
       "╞═══════════════════════════╪══════════════╪═══════════╡\n",
       "│ <Tensor shape=(128, 128)> ┆ [0, 1, 0, 1] ┆ [[1. 1.]  │\n",
       "│                           ┆              ┆  [1. 1.]] │\n",
       "├╌╌╌╌╌╌╌╌╌╌╌╌╌╌╌╌╌╌╌╌╌╌╌╌╌╌╌┼╌╌╌╌╌╌╌╌╌╌╌╌╌╌┼╌╌╌╌╌╌╌╌╌╌╌┤\n",
       "│ <Tensor shape=(128, 128)> ┆ [0, 1, 0, 1] ┆ [[1. 1.]  │\n",
       "│                           ┆              ┆  [1. 1.]] │\n",
       "╰───────────────────────────┴──────────────┴───────────╯\n",
       "\n",
       "(Showing first 2 rows)"
      ]
     },
     "metadata": {},
     "output_type": "display_data"
    }
   ],
   "source": [
    "@daft.udf(return_dtype=daft.DataType.python())\n",
    "def crop_images(images, crops, padding=0):\n",
    "    cropped = []\n",
    "    for img, crop in zip(images, crops):\n",
    "        x1, x2, y1, y2 = crop\n",
    "        cropped_img = img[x1:x2 + padding, y1:y2 + padding]\n",
    "        cropped.append(cropped_img)\n",
    "    return cropped\n",
    "\n",
    "df.with_column(\n",
    "    \"cropped\",\n",
    "    crop_images(df[\"image\"], df[\"crop\"], padding=1),\n",
    ").show(2)"
   ]
  }
 ],
 "metadata": {
  "kernelspec": {
   "display_name": "raydev",
   "language": "python",
   "name": "python3"
  },
  "language_info": {
   "codemirror_mode": {
    "name": "ipython",
    "version": 3
   },
   "file_extension": ".py",
   "mimetype": "text/x-python",
   "name": "python",
   "nbconvert_exporter": "python",
   "pygments_lexer": "ipython3",
   "version": "3.11.10"
  }
 },
 "nbformat": 4,
 "nbformat_minor": 5
}
