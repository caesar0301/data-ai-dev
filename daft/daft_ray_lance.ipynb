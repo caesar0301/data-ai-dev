{
 "cells": [
  {
   "cell_type": "code",
   "execution_count": 2,
   "id": "896098ed",
   "metadata": {},
   "outputs": [
    {
     "name": "stdout",
     "output_type": "stream",
     "text": [
      "Requirement already satisfied: daft in /home/chenxm/.pyenv/versions/3.12.5/envs/daft/lib/python3.12/site-packages (from -r requirements.txt (line 1)) (0.5.0)\n",
      "Requirement already satisfied: ray[client] in /home/chenxm/.pyenv/versions/3.12.5/envs/daft/lib/python3.12/site-packages (from -r requirements.txt (line 3)) (2.46.0)\n",
      "Requirement already satisfied: pyarrow>=8.0.0 in /home/chenxm/.pyenv/versions/3.12.5/envs/daft/lib/python3.12/site-packages (from daft->-r requirements.txt (line 1)) (20.0.0)\n",
      "Requirement already satisfied: fsspec in /home/chenxm/.pyenv/versions/3.12.5/envs/daft/lib/python3.12/site-packages (from daft->-r requirements.txt (line 1)) (2025.5.1)\n",
      "Requirement already satisfied: tqdm in /home/chenxm/.pyenv/versions/3.12.5/envs/daft/lib/python3.12/site-packages (from daft->-r requirements.txt (line 1)) (4.67.1)\n",
      "Requirement already satisfied: packaging in /home/chenxm/.pyenv/versions/3.12.5/envs/daft/lib/python3.12/site-packages (from daft[ray]->-r requirements.txt (line 2)) (25.0)\n",
      "Requirement already satisfied: click>=7.0 in /home/chenxm/.pyenv/versions/3.12.5/envs/daft/lib/python3.12/site-packages (from ray[client]->-r requirements.txt (line 3)) (8.2.1)\n",
      "Requirement already satisfied: filelock in /home/chenxm/.pyenv/versions/3.12.5/envs/daft/lib/python3.12/site-packages (from ray[client]->-r requirements.txt (line 3)) (3.18.0)\n",
      "Requirement already satisfied: jsonschema in /home/chenxm/.pyenv/versions/3.12.5/envs/daft/lib/python3.12/site-packages (from ray[client]->-r requirements.txt (line 3)) (4.24.0)\n",
      "Requirement already satisfied: msgpack<2.0.0,>=1.0.0 in /home/chenxm/.pyenv/versions/3.12.5/envs/daft/lib/python3.12/site-packages (from ray[client]->-r requirements.txt (line 3)) (1.1.0)\n",
      "Requirement already satisfied: protobuf!=3.19.5,>=3.15.3 in /home/chenxm/.pyenv/versions/3.12.5/envs/daft/lib/python3.12/site-packages (from ray[client]->-r requirements.txt (line 3)) (6.31.1)\n",
      "Requirement already satisfied: pyyaml in /home/chenxm/.pyenv/versions/3.12.5/envs/daft/lib/python3.12/site-packages (from ray[client]->-r requirements.txt (line 3)) (6.0.2)\n",
      "Requirement already satisfied: requests in /home/chenxm/.pyenv/versions/3.12.5/envs/daft/lib/python3.12/site-packages (from ray[client]->-r requirements.txt (line 3)) (2.32.3)\n",
      "Requirement already satisfied: grpcio in /home/chenxm/.pyenv/versions/3.12.5/envs/daft/lib/python3.12/site-packages (from ray[client]->-r requirements.txt (line 3)) (1.71.0)\n",
      "Requirement already satisfied: numpy>=1.20 in /home/chenxm/.pyenv/versions/3.12.5/envs/daft/lib/python3.12/site-packages (from ray[client,data]>=2.0.0; platform_system != \"Windows\" and extra == \"ray\"->daft[ray]->-r requirements.txt (line 2)) (2.2.6)\n",
      "Requirement already satisfied: pandas>=1.3 in /home/chenxm/.pyenv/versions/3.12.5/envs/daft/lib/python3.12/site-packages (from ray[client,data]>=2.0.0; platform_system != \"Windows\" and extra == \"ray\"->daft[ray]->-r requirements.txt (line 2)) (2.2.3)\n",
      "Requirement already satisfied: attrs>=22.2.0 in /home/chenxm/.pyenv/versions/3.12.5/envs/daft/lib/python3.12/site-packages (from jsonschema->ray[client]->-r requirements.txt (line 3)) (25.3.0)\n",
      "Requirement already satisfied: jsonschema-specifications>=2023.03.6 in /home/chenxm/.pyenv/versions/3.12.5/envs/daft/lib/python3.12/site-packages (from jsonschema->ray[client]->-r requirements.txt (line 3)) (2025.4.1)\n",
      "Requirement already satisfied: referencing>=0.28.4 in /home/chenxm/.pyenv/versions/3.12.5/envs/daft/lib/python3.12/site-packages (from jsonschema->ray[client]->-r requirements.txt (line 3)) (0.36.2)\n",
      "Requirement already satisfied: rpds-py>=0.7.1 in /home/chenxm/.pyenv/versions/3.12.5/envs/daft/lib/python3.12/site-packages (from jsonschema->ray[client]->-r requirements.txt (line 3)) (0.25.1)\n",
      "Requirement already satisfied: charset-normalizer<4,>=2 in /home/chenxm/.pyenv/versions/3.12.5/envs/daft/lib/python3.12/site-packages (from requests->ray[client]->-r requirements.txt (line 3)) (3.4.2)\n",
      "Requirement already satisfied: idna<4,>=2.5 in /home/chenxm/.pyenv/versions/3.12.5/envs/daft/lib/python3.12/site-packages (from requests->ray[client]->-r requirements.txt (line 3)) (3.10)\n",
      "Requirement already satisfied: urllib3<3,>=1.21.1 in /home/chenxm/.pyenv/versions/3.12.5/envs/daft/lib/python3.12/site-packages (from requests->ray[client]->-r requirements.txt (line 3)) (2.4.0)\n",
      "Requirement already satisfied: certifi>=2017.4.17 in /home/chenxm/.pyenv/versions/3.12.5/envs/daft/lib/python3.12/site-packages (from requests->ray[client]->-r requirements.txt (line 3)) (2025.4.26)\n",
      "Requirement already satisfied: python-dateutil>=2.8.2 in /home/chenxm/.pyenv/versions/3.12.5/envs/daft/lib/python3.12/site-packages (from pandas>=1.3->ray[client,data]>=2.0.0; platform_system != \"Windows\" and extra == \"ray\"->daft[ray]->-r requirements.txt (line 2)) (2.9.0.post0)\n",
      "Requirement already satisfied: pytz>=2020.1 in /home/chenxm/.pyenv/versions/3.12.5/envs/daft/lib/python3.12/site-packages (from pandas>=1.3->ray[client,data]>=2.0.0; platform_system != \"Windows\" and extra == \"ray\"->daft[ray]->-r requirements.txt (line 2)) (2025.2)\n",
      "Requirement already satisfied: tzdata>=2022.7 in /home/chenxm/.pyenv/versions/3.12.5/envs/daft/lib/python3.12/site-packages (from pandas>=1.3->ray[client,data]>=2.0.0; platform_system != \"Windows\" and extra == \"ray\"->daft[ray]->-r requirements.txt (line 2)) (2025.2)\n",
      "Requirement already satisfied: typing-extensions>=4.4.0 in /home/chenxm/.pyenv/versions/3.12.5/envs/daft/lib/python3.12/site-packages (from referencing>=0.28.4->jsonschema->ray[client]->-r requirements.txt (line 3)) (4.13.2)\n",
      "Requirement already satisfied: six>=1.5 in /home/chenxm/.pyenv/versions/3.12.5/envs/daft/lib/python3.12/site-packages (from python-dateutil>=2.8.2->pandas>=1.3->ray[client,data]>=2.0.0; platform_system != \"Windows\" and extra == \"ray\"->daft[ray]->-r requirements.txt (line 2)) (1.17.0)\n",
      "\n",
      "\u001b[1m[\u001b[0m\u001b[34;49mnotice\u001b[0m\u001b[1;39;49m]\u001b[0m\u001b[39;49m A new release of pip is available: \u001b[0m\u001b[31;49m24.2\u001b[0m\u001b[39;49m -> \u001b[0m\u001b[32;49m25.1.1\u001b[0m\n",
      "\u001b[1m[\u001b[0m\u001b[34;49mnotice\u001b[0m\u001b[1;39;49m]\u001b[0m\u001b[39;49m To update, run: \u001b[0m\u001b[32;49mpip install --upgrade pip\u001b[0m\n"
     ]
    }
   ],
   "source": [
    "!pip install -r requirements.txt "
   ]
  },
  {
   "cell_type": "markdown",
   "id": "d737549b",
   "metadata": {},
   "source": [
    "## Daft on Ray"
   ]
  },
  {
   "cell_type": "code",
   "execution_count": null,
   "id": "27ce63a5",
   "metadata": {},
   "outputs": [
    {
     "name": "stderr",
     "output_type": "stream",
     "text": [
      "2025-05-13 12:21:52,431\tINFO worker.py:1694 -- Connecting to existing Ray cluster at address: host.docker.internal:30311...\n",
      "2025-05-13 12:21:53,443\tINFO node.py:1105 -- Can't find a `node_ip_address.json` file from /tmp/ray/session_2025-05-13_05-16-00_977307_1. Have you started Ray instance using `ray start` or `ray.init`?\n",
      "2025-05-13 12:22:03,465\tINFO node.py:1105 -- Can't find a `node_ip_address.json` file from /tmp/ray/session_2025-05-13_05-16-00_977307_1. Have you started Ray instance using `ray start` or `ray.init`?\n",
      "2025-05-13 12:22:13,485\tINFO node.py:1105 -- Can't find a `node_ip_address.json` file from /tmp/ray/session_2025-05-13_05-16-00_977307_1. Have you started Ray instance using `ray start` or `ray.init`?\n",
      "2025-05-13 12:22:23,500\tINFO node.py:1105 -- Can't find a `node_ip_address.json` file from /tmp/ray/session_2025-05-13_05-16-00_977307_1. Have you started Ray instance using `ray start` or `ray.init`?\n",
      "2025-05-13 12:22:33,517\tINFO node.py:1105 -- Can't find a `node_ip_address.json` file from /tmp/ray/session_2025-05-13_05-16-00_977307_1. Have you started Ray instance using `ray start` or `ray.init`?\n",
      "2025-05-13 12:22:43,535\tINFO node.py:1105 -- Can't find a `node_ip_address.json` file from /tmp/ray/session_2025-05-13_05-16-00_977307_1. Have you started Ray instance using `ray start` or `ray.init`?\n"
     ]
    },
    {
     "ename": "ValueError",
     "evalue": "Can't find a `node_ip_address.json` file from /tmp/ray/session_2025-05-13_05-16-00_977307_1. for 60 seconds. A ray instance hasn't started. Did you do `ray start` or `ray.init` on this host?",
     "output_type": "error",
     "traceback": [
      "\u001b[31m---------------------------------------------------------------------------\u001b[39m",
      "\u001b[31mValueError\u001b[39m                                Traceback (most recent call last)",
      "\u001b[36mCell\u001b[39m\u001b[36m \u001b[39m\u001b[32mIn[5]\u001b[39m\u001b[32m, line 3\u001b[39m\n\u001b[32m      1\u001b[39m \u001b[38;5;28;01mimport\u001b[39;00m\u001b[38;5;250m \u001b[39m\u001b[34;01mdaft\u001b[39;00m\n\u001b[32m----> \u001b[39m\u001b[32m3\u001b[39m \u001b[43mdaft\u001b[49m\u001b[43m.\u001b[49m\u001b[43mcontext\u001b[49m\u001b[43m.\u001b[49m\u001b[43mset_runner_ray\u001b[49m\u001b[43m(\u001b[49m\u001b[43maddress\u001b[49m\u001b[43m=\u001b[49m\u001b[33;43m\"\u001b[39;49m\u001b[33;43mray://host.docker.internal:30311\u001b[39;49m\u001b[33;43m\"\u001b[39;49m\u001b[43m)\u001b[49m\n\u001b[32m      4\u001b[39m df = daft.from_pydict({\n\u001b[32m      5\u001b[39m     \u001b[33m'\u001b[39m\u001b[33mtext\u001b[39m\u001b[33m'\u001b[39m: [\u001b[33m'\u001b[39m\u001b[33mhello\u001b[39m\u001b[33m'\u001b[39m, \u001b[33m'\u001b[39m\u001b[33mworld\u001b[39m\u001b[33m'\u001b[39m]\n\u001b[32m      6\u001b[39m })\n\u001b[32m      7\u001b[39m \u001b[38;5;28mprint\u001b[39m(df)\n",
      "\u001b[36mFile \u001b[39m\u001b[32m~/.pyenv/versions/3.11.11/lib/python3.11/site-packages/daft/context.py:84\u001b[39m, in \u001b[36mset_runner_ray\u001b[39m\u001b[34m(address, noop_if_initialized, max_task_backlog, force_client_mode)\u001b[39m\n\u001b[32m     64\u001b[39m \u001b[38;5;28;01mdef\u001b[39;00m\u001b[38;5;250m \u001b[39m\u001b[34mset_runner_ray\u001b[39m(\n\u001b[32m     65\u001b[39m     address: \u001b[38;5;28mstr\u001b[39m | \u001b[38;5;28;01mNone\u001b[39;00m = \u001b[38;5;28;01mNone\u001b[39;00m,\n\u001b[32m     66\u001b[39m     noop_if_initialized: \u001b[38;5;28mbool\u001b[39m = \u001b[38;5;28;01mFalse\u001b[39;00m,\n\u001b[32m     67\u001b[39m     max_task_backlog: \u001b[38;5;28mint\u001b[39m | \u001b[38;5;28;01mNone\u001b[39;00m = \u001b[38;5;28;01mNone\u001b[39;00m,\n\u001b[32m     68\u001b[39m     force_client_mode: \u001b[38;5;28mbool\u001b[39m = \u001b[38;5;28;01mFalse\u001b[39;00m,\n\u001b[32m     69\u001b[39m ) -> DaftContext:\n\u001b[32m     70\u001b[39m \u001b[38;5;250m    \u001b[39m\u001b[33;03m\"\"\"Configure Daft to execute dataframes using the Ray distributed computing framework.\u001b[39;00m\n\u001b[32m     71\u001b[39m \n\u001b[32m     72\u001b[39m \u001b[33;03m    Args:\u001b[39;00m\n\u001b[32m   (...)\u001b[39m\u001b[32m     82\u001b[39m \u001b[33;03m        Can also be configured via environment variable: DAFT_RUNNER=ray\u001b[39;00m\n\u001b[32m     83\u001b[39m \u001b[33;03m    \"\"\"\u001b[39;00m\n\u001b[32m---> \u001b[39m\u001b[32m84\u001b[39m     py_ctx = \u001b[43m_set_runner_ray\u001b[49m\u001b[43m(\u001b[49m\n\u001b[32m     85\u001b[39m \u001b[43m        \u001b[49m\u001b[43maddress\u001b[49m\u001b[43m=\u001b[49m\u001b[43maddress\u001b[49m\u001b[43m,\u001b[49m\n\u001b[32m     86\u001b[39m \u001b[43m        \u001b[49m\u001b[43mnoop_if_initialized\u001b[49m\u001b[43m=\u001b[49m\u001b[43mnoop_if_initialized\u001b[49m\u001b[43m,\u001b[49m\n\u001b[32m     87\u001b[39m \u001b[43m        \u001b[49m\u001b[43mmax_task_backlog\u001b[49m\u001b[43m=\u001b[49m\u001b[43mmax_task_backlog\u001b[49m\u001b[43m,\u001b[49m\n\u001b[32m     88\u001b[39m \u001b[43m        \u001b[49m\u001b[43mforce_client_mode\u001b[49m\u001b[43m=\u001b[49m\u001b[43mforce_client_mode\u001b[49m\u001b[43m,\u001b[49m\n\u001b[32m     89\u001b[39m \u001b[43m    \u001b[49m\u001b[43m)\u001b[49m\n\u001b[32m     91\u001b[39m     \u001b[38;5;28;01mreturn\u001b[39;00m DaftContext._from_native(py_ctx)\n",
      "\u001b[36mFile \u001b[39m\u001b[32m~/.pyenv/versions/3.11.11/lib/python3.11/site-packages/daft/runners/ray_runner.py:1201\u001b[39m, in \u001b[36mRayRunner.__init__\u001b[39m\u001b[34m(self, address, max_task_backlog, force_client_mode)\u001b[39m\n\u001b[32m   1195\u001b[39m         logger.warning(\n\u001b[32m   1196\u001b[39m             \u001b[33m\"\u001b[39m\u001b[33mRay has already been initialized, Daft will reuse the existing Ray context and ignore the \u001b[39m\u001b[33m\"\u001b[39m\n\u001b[32m   1197\u001b[39m             \u001b[33m\"\u001b[39m\u001b[33msupplied address: \u001b[39m\u001b[38;5;132;01m%s\u001b[39;00m\u001b[33m\"\u001b[39m,\n\u001b[32m   1198\u001b[39m             address,\n\u001b[32m   1199\u001b[39m         )\n\u001b[32m   1200\u001b[39m \u001b[38;5;28;01melse\u001b[39;00m:\n\u001b[32m-> \u001b[39m\u001b[32m1201\u001b[39m     \u001b[43mray\u001b[49m\u001b[43m.\u001b[49m\u001b[43minit\u001b[49m\u001b[43m(\u001b[49m\u001b[43maddress\u001b[49m\u001b[43m=\u001b[49m\u001b[43maddress\u001b[49m\u001b[43m)\u001b[49m\n\u001b[32m   1203\u001b[39m \u001b[38;5;66;03m# Check if Ray is running in \"client mode\" (connected to a Ray cluster via a Ray client)\u001b[39;00m\n\u001b[32m   1204\u001b[39m \u001b[38;5;28mself\u001b[39m.ray_client_mode = force_client_mode \u001b[38;5;129;01mor\u001b[39;00m ray.util.client.ray.get_context().is_connected()\n",
      "\u001b[36mFile \u001b[39m\u001b[32m~/.pyenv/versions/3.11.11/lib/python3.11/site-packages/ray/_private/client_mode_hook.py:103\u001b[39m, in \u001b[36mclient_mode_hook.<locals>.wrapper\u001b[39m\u001b[34m(*args, **kwargs)\u001b[39m\n\u001b[32m    101\u001b[39m     \u001b[38;5;28;01mif\u001b[39;00m func.\u001b[34m__name__\u001b[39m != \u001b[33m\"\u001b[39m\u001b[33minit\u001b[39m\u001b[33m\"\u001b[39m \u001b[38;5;129;01mor\u001b[39;00m is_client_mode_enabled_by_default:\n\u001b[32m    102\u001b[39m         \u001b[38;5;28;01mreturn\u001b[39;00m \u001b[38;5;28mgetattr\u001b[39m(ray, func.\u001b[34m__name__\u001b[39m)(*args, **kwargs)\n\u001b[32m--> \u001b[39m\u001b[32m103\u001b[39m \u001b[38;5;28;01mreturn\u001b[39;00m \u001b[43mfunc\u001b[49m\u001b[43m(\u001b[49m\u001b[43m*\u001b[49m\u001b[43margs\u001b[49m\u001b[43m,\u001b[49m\u001b[43m \u001b[49m\u001b[43m*\u001b[49m\u001b[43m*\u001b[49m\u001b[43mkwargs\u001b[49m\u001b[43m)\u001b[49m\n",
      "\u001b[36mFile \u001b[39m\u001b[32m~/.pyenv/versions/3.11.11/lib/python3.11/site-packages/ray/_private/worker.py:1844\u001b[39m, in \u001b[36minit\u001b[39m\u001b[34m(address, num_cpus, num_gpus, resources, labels, object_store_memory, local_mode, ignore_reinit_error, include_dashboard, dashboard_host, dashboard_port, job_config, configure_logging, logging_level, logging_format, logging_config, log_to_driver, namespace, runtime_env, storage, enable_resource_isolation, system_reserved_cpu, system_reserved_memory, **kwargs)\u001b[39m\n\u001b[32m   1831\u001b[39m ray_params = ray._private.parameter.RayParams(\n\u001b[32m   1832\u001b[39m     node_ip_address=_node_ip_address,\n\u001b[32m   1833\u001b[39m     gcs_address=gcs_address,\n\u001b[32m   (...)\u001b[39m\u001b[32m   1841\u001b[39m     metrics_export_port=_metrics_export_port,\n\u001b[32m   1842\u001b[39m )\n\u001b[32m   1843\u001b[39m \u001b[38;5;28;01mtry\u001b[39;00m:\n\u001b[32m-> \u001b[39m\u001b[32m1844\u001b[39m     _global_node = \u001b[43mray\u001b[49m\u001b[43m.\u001b[49m\u001b[43m_private\u001b[49m\u001b[43m.\u001b[49m\u001b[43mnode\u001b[49m\u001b[43m.\u001b[49m\u001b[43mNode\u001b[49m\u001b[43m(\u001b[49m\n\u001b[32m   1845\u001b[39m \u001b[43m        \u001b[49m\u001b[43mray_params\u001b[49m\u001b[43m,\u001b[49m\n\u001b[32m   1846\u001b[39m \u001b[43m        \u001b[49m\u001b[43mhead\u001b[49m\u001b[43m=\u001b[49m\u001b[38;5;28;43;01mFalse\u001b[39;49;00m\u001b[43m,\u001b[49m\n\u001b[32m   1847\u001b[39m \u001b[43m        \u001b[49m\u001b[43mshutdown_at_exit\u001b[49m\u001b[43m=\u001b[49m\u001b[38;5;28;43;01mFalse\u001b[39;49;00m\u001b[43m,\u001b[49m\n\u001b[32m   1848\u001b[39m \u001b[43m        \u001b[49m\u001b[43mspawn_reaper\u001b[49m\u001b[43m=\u001b[49m\u001b[38;5;28;43;01mFalse\u001b[39;49;00m\u001b[43m,\u001b[49m\n\u001b[32m   1849\u001b[39m \u001b[43m        \u001b[49m\u001b[43mconnect_only\u001b[49m\u001b[43m=\u001b[49m\u001b[38;5;28;43;01mTrue\u001b[39;49;00m\u001b[43m,\u001b[49m\n\u001b[32m   1850\u001b[39m \u001b[43m    \u001b[49m\u001b[43m)\u001b[49m\n\u001b[32m   1851\u001b[39m \u001b[38;5;28;01mexcept\u001b[39;00m (\u001b[38;5;167;01mConnectionError\u001b[39;00m, \u001b[38;5;167;01mRuntimeError\u001b[39;00m):\n\u001b[32m   1852\u001b[39m     \u001b[38;5;28;01mif\u001b[39;00m gcs_address == ray._private.utils.read_ray_address(_temp_dir):\n",
      "\u001b[36mFile \u001b[39m\u001b[32m~/.pyenv/versions/3.11.11/lib/python3.11/site-packages/ray/_private/node.py:213\u001b[39m, in \u001b[36mNode.__init__\u001b[39m\u001b[34m(self, ray_params, head, shutdown_at_exit, spawn_reaper, connect_only, default_worker, ray_init_cluster)\u001b[39m\n\u001b[32m    211\u001b[39m \u001b[38;5;28;01mif\u001b[39;00m node_ip_address \u001b[38;5;129;01mis\u001b[39;00m \u001b[38;5;28;01mNone\u001b[39;00m:\n\u001b[32m    212\u001b[39m     \u001b[38;5;28;01mif\u001b[39;00m connect_only:\n\u001b[32m--> \u001b[39m\u001b[32m213\u001b[39m         node_ip_address = \u001b[38;5;28;43mself\u001b[39;49m\u001b[43m.\u001b[49m\u001b[43m_wait_and_get_for_node_address\u001b[49m\u001b[43m(\u001b[49m\u001b[43m)\u001b[49m\n\u001b[32m    214\u001b[39m     \u001b[38;5;28;01melse\u001b[39;00m:\n\u001b[32m    215\u001b[39m         node_ip_address = ray.util.get_node_ip_address()\n",
      "\u001b[36mFile \u001b[39m\u001b[32m~/.pyenv/versions/3.11.11/lib/python3.11/site-packages/ray/_private/node.py:1112\u001b[39m, in \u001b[36mNode._wait_and_get_for_node_address\u001b[39m\u001b[34m(self, timeout_s)\u001b[39m\n\u001b[32m   1104\u001b[39m     \u001b[38;5;28;01mif\u001b[39;00m i % \u001b[32m10\u001b[39m == \u001b[32m0\u001b[39m:\n\u001b[32m   1105\u001b[39m         logger.info(\n\u001b[32m   1106\u001b[39m             \u001b[33mf\u001b[39m\u001b[33m\"\u001b[39m\u001b[33mCan\u001b[39m\u001b[33m'\u001b[39m\u001b[33mt find a `\u001b[39m\u001b[38;5;132;01m{\u001b[39;00mray_constants.RAY_NODE_IP_FILENAME\u001b[38;5;132;01m}\u001b[39;00m\u001b[33m` \u001b[39m\u001b[33m\"\u001b[39m\n\u001b[32m   1107\u001b[39m             \u001b[33mf\u001b[39m\u001b[33m\"\u001b[39m\u001b[33mfile from \u001b[39m\u001b[38;5;132;01m{\u001b[39;00m\u001b[38;5;28mself\u001b[39m.get_session_dir_path()\u001b[38;5;132;01m}\u001b[39;00m\u001b[33m. \u001b[39m\u001b[33m\"\u001b[39m\n\u001b[32m   1108\u001b[39m             \u001b[33m\"\u001b[39m\u001b[33mHave you started Ray instance using \u001b[39m\u001b[33m\"\u001b[39m\n\u001b[32m   1109\u001b[39m             \u001b[33m\"\u001b[39m\u001b[33m`ray start` or `ray.init`?\u001b[39m\u001b[33m\"\u001b[39m\n\u001b[32m   1110\u001b[39m         )\n\u001b[32m-> \u001b[39m\u001b[32m1112\u001b[39m \u001b[38;5;28;01mraise\u001b[39;00m \u001b[38;5;167;01mValueError\u001b[39;00m(\n\u001b[32m   1113\u001b[39m     \u001b[33mf\u001b[39m\u001b[33m\"\u001b[39m\u001b[33mCan\u001b[39m\u001b[33m'\u001b[39m\u001b[33mt find a `\u001b[39m\u001b[38;5;132;01m{\u001b[39;00mray_constants.RAY_NODE_IP_FILENAME\u001b[38;5;132;01m}\u001b[39;00m\u001b[33m` \u001b[39m\u001b[33m\"\u001b[39m\n\u001b[32m   1114\u001b[39m     \u001b[33mf\u001b[39m\u001b[33m\"\u001b[39m\u001b[33mfile from \u001b[39m\u001b[38;5;132;01m{\u001b[39;00m\u001b[38;5;28mself\u001b[39m.get_session_dir_path()\u001b[38;5;132;01m}\u001b[39;00m\u001b[33m. \u001b[39m\u001b[33m\"\u001b[39m\n\u001b[32m   1115\u001b[39m     \u001b[33mf\u001b[39m\u001b[33m\"\u001b[39m\u001b[33mfor \u001b[39m\u001b[38;5;132;01m{\u001b[39;00mtimeout_s\u001b[38;5;132;01m}\u001b[39;00m\u001b[33m seconds. \u001b[39m\u001b[33m\"\u001b[39m\n\u001b[32m   1116\u001b[39m     \u001b[33m\"\u001b[39m\u001b[33mA ray instance hasn\u001b[39m\u001b[33m'\u001b[39m\u001b[33mt started. \u001b[39m\u001b[33m\"\u001b[39m\n\u001b[32m   1117\u001b[39m     \u001b[33m\"\u001b[39m\u001b[33mDid you do `ray start` or `ray.init` on this host?\u001b[39m\u001b[33m\"\u001b[39m\n\u001b[32m   1118\u001b[39m )\n",
      "\u001b[31mValueError\u001b[39m: Can't find a `node_ip_address.json` file from /tmp/ray/session_2025-05-13_05-16-00_977307_1. for 60 seconds. A ray instance hasn't started. Did you do `ray start` or `ray.init` on this host?"
     ]
    }
   ],
   "source": [
    "import daft\n",
    "import ray\n",
    "\n",
    "# Refer to the note under \"Ray Job\" for details on \"runtime_env\"\n",
    "ray.init(\"ray://127.0.0.1:10001\", runtime_env={\"pip\": [\"daft\"]})\n",
    "\n",
    "# Starts the Ray client and tells Daft to use Ray to execute queries\n",
    "# If ray.init() has already been called, it uses the existing client\n",
    "daft.context.set_runner_ray(\"ray://127.0.0.1:10001\")\n",
    "\n",
    "df = daft.from_pydict({\n",
    "    \"a\": [3, 2, 5, 6, 1, 4],\n",
    "    \"b\": [True, False, False, True, True, False]\n",
    "})\n",
    "df = df.where(df[\"b\"]).sort(df[\"a\"])\n",
    "\n",
    "# Daft executes the query remotely and returns a preview to the client\n",
    "df.collect()"
   ]
  }
 ],
 "metadata": {
  "kernelspec": {
   "display_name": "daft",
   "language": "python",
   "name": "python3"
  },
  "language_info": {
   "codemirror_mode": {
    "name": "ipython",
    "version": 3
   },
   "file_extension": ".py",
   "mimetype": "text/x-python",
   "name": "python",
   "nbconvert_exporter": "python",
   "pygments_lexer": "ipython3",
   "version": "3.12.5"
  }
 },
 "nbformat": 4,
 "nbformat_minor": 5
}
