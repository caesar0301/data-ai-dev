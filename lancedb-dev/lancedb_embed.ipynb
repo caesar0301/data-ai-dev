{
 "cells": [
  {
   "cell_type": "markdown",
   "id": "6abb834c",
   "metadata": {},
   "source": [
    "## Prepare"
   ]
  },
  {
   "cell_type": "code",
   "execution_count": null,
   "id": "004a581b",
   "metadata": {},
   "outputs": [],
   "source": [
    "!pip install -r lancedb-dev/requirements.txt"
   ]
  },
  {
   "cell_type": "markdown",
   "id": "066fdde5",
   "metadata": {},
   "source": [
    "## Using predefined EF, for example, ollama"
   ]
  },
  {
   "cell_type": "code",
   "execution_count": null,
   "id": "e6721fc0",
   "metadata": {},
   "outputs": [],
   "source": [
    "from lancedb.embeddings import get_registry\n",
    "from lancedb.pydantic import LanceModel, Vector\n",
    "\n",
    "registry = get_registry()\n",
    "ollama = registry.get(\"ollama\").create()\n",
    "\n",
    "# overwrite default model field\n",
    "ollama.host = \"http://host.docker.internal:30491\"\n",
    "\n",
    "class TinyStory(LanceModel):\n",
    "    vector: Vector(ollama.ndims()) = ollama.VectorField()\n",
    "    text: str = ollama.SourceField()"
   ]
  },
  {
   "cell_type": "markdown",
   "id": "094e88e8",
   "metadata": {},
   "source": [
    "## Add table data"
   ]
  },
  {
   "cell_type": "code",
   "execution_count": null,
   "id": "38374877",
   "metadata": {},
   "outputs": [],
   "source": [
    "import lancedb\n",
    "import json\n",
    "\n",
    "db = lancedb.connect(\"data/sampledb\")\n",
    "table = db.create_table(\"tiny_stories\", schema=TinyStory, mode='overwrite')\n",
    "\n",
    "## load data\n",
    "story_text = list()\n",
    "with open(\"datasets/tinystories-00.json\", 'r') as ifile:\n",
    "    for s in json.load(ifile)[:100]:\n",
    "        story_text.append(s['story'])\n",
    "\n",
    "## lancedb ollama embedding interfarce needs improvement\n",
    "table.add([{\"text\": u} for u in story_text])"
   ]
  },
  {
   "cell_type": "markdown",
   "id": "cc7de4e2",
   "metadata": {},
   "source": [
    "## Query table (embeddings) semantically"
   ]
  },
  {
   "cell_type": "code",
   "execution_count": null,
   "id": "2a5e67df",
   "metadata": {},
   "outputs": [],
   "source": [
    "results = (\n",
    "    table.search(\"dog\")\n",
    "        .limit(10)\n",
    "        .to_pandas()\n",
    ")"
   ]
  },
  {
   "cell_type": "markdown",
   "id": "129cf466",
   "metadata": {},
   "source": [
    "## User-defined embedding functions\n",
    "\n",
    "here we define new sentence-transformers EF."
   ]
  },
  {
   "cell_type": "code",
   "execution_count": 62,
   "id": "406f273d",
   "metadata": {},
   "outputs": [],
   "source": [
    "from lancedb.embeddings.registry import register\n",
    "from lancedb.embeddings.base import TextEmbeddingFunction\n",
    "from lancedb.util import attempt_import_or_raise\n",
    "\n",
    "\n",
    "@register(\"sentence-transformers\")\n",
    "class SentenceTransformerEmbeddings(TextEmbeddingFunction):\n",
    "    name: str = \"sentence-transformers/all-MiniLM-L6-v2\"\n",
    "    # set more default instance vars like device, etc.\n",
    "\n",
    "    def __init__(self, **kwargs):\n",
    "        super().__init__(**kwargs)\n",
    "        self._ndims = None\n",
    "\n",
    "    def generate_embeddings(self, texts):\n",
    "        return self._embedding_model().encode(list(texts)).tolist()\n",
    "\n",
    "    def ndims(self):\n",
    "        if self._ndims is None:\n",
    "            self._ndims = len(self.generate_embeddings(\"foo\")[0])\n",
    "        return self._ndims\n",
    "\n",
    "    def _embedding_model(self):\n",
    "        from sentence_transformers import SentenceTransformer\n",
    "        return SentenceTransformer(self.name)"
   ]
  },
  {
   "cell_type": "code",
   "execution_count": 63,
   "id": "bd2c50fc",
   "metadata": {},
   "outputs": [
    {
     "name": "stdout",
     "output_type": "stream",
     "text": [
      "                                              vector   text  _distance\n",
      "0  [-0.030238196, 0.03164673, -0.06337431, -0.013...  world   1.309270\n",
      "1  [0.008483132, 0.01367103, -0.050205357, 0.0202...   halo   1.415382\n",
      "2  [0.004036582, 0.015092085, 0.080479845, 0.0011...     你好   1.491913\n"
     ]
    }
   ],
   "source": [
    "from lancedb.pydantic import LanceModel, Vector\n",
    "from lancedb.embeddings import EmbeddingFunctionRegistry\n",
    "import pandas as pd\n",
    "\n",
    "registry = EmbeddingFunctionRegistry.get_instance()\n",
    "stransformer = registry.get(\"sentence-transformers\").create()\n",
    "\n",
    "class TextModelSchema(LanceModel):\n",
    "    vector: Vector(stransformer.ndims()) = stransformer.VectorField()\n",
    "    text: str = stransformer.SourceField()\n",
    "\n",
    "db = lancedb.connect(\"data/sampledb\")\n",
    "tbl = db.create_table(\"table\", schema=TextModelSchema, mode='overwrite')\n",
    "\n",
    "tbl.add(pd.DataFrame({\"text\": [\"halo\", \"world\", \"你好\"]}))\n",
    "result = tbl.search(\"hello\").limit(5).to_pandas()\n",
    "print(result)"
   ]
  }
 ],
 "metadata": {
  "kernelspec": {
   "display_name": "3.11.11",
   "language": "python",
   "name": "python3"
  },
  "language_info": {
   "codemirror_mode": {
    "name": "ipython",
    "version": 3
   },
   "file_extension": ".py",
   "mimetype": "text/x-python",
   "name": "python",
   "nbconvert_exporter": "python",
   "pygments_lexer": "ipython3",
   "version": "3.11.11"
  }
 },
 "nbformat": 4,
 "nbformat_minor": 5
}
