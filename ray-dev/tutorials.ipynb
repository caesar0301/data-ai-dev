{
 "cells": [
  {
   "cell_type": "code",
   "execution_count": 1,
   "id": "cafbe591",
   "metadata": {},
   "outputs": [
    {
     "name": "stderr",
     "output_type": "stream",
     "text": [
      "2025-04-14 16:56:20,018\tINFO util.py:154 -- Missing packages: ['ipywidgets']. Run `pip install -U ipywidgets`, then restart the notebook server for rich notebook output.\n"
     ]
    }
   ],
   "source": [
    "import ray\n",
    "ray.shutdown()"
   ]
  },
  {
   "cell_type": "code",
   "execution_count": null,
   "id": "cebe048c",
   "metadata": {},
   "outputs": [
    {
     "name": "stderr",
     "output_type": "stream",
     "text": [
      "2025-04-14 16:58:17,283\tINFO client_builder.py:244 -- Passing the following kwargs to ray.init() on the server: log_to_driver\n",
      "SIGTERM handler is not set because current thread is not the main thread.\n"
     ]
    },
    {
     "data": {
      "text/html": [
       "<div class=\"lm-Widget p-Widget lm-Panel p-Panel jp-Cell-outputWrapper\">\n",
       "    <div style=\"margin-left: 50px;display: flex;flex-direction: row;align-items: center\">\n",
       "        <div class=\"jp-RenderedHTMLCommon\" style=\"display: flex; flex-direction: row;\">\n",
       "  <svg viewBox=\"0 0 567 224\" fill=\"none\" xmlns=\"http://www.w3.org/2000/svg\" style=\"height: 3em;\">\n",
       "    <g clip-path=\"url(#clip0_4338_178347)\">\n",
       "        <path d=\"M341.29 165.561H355.29L330.13 129.051C345.63 123.991 354.21 112.051 354.21 94.2307C354.21 71.3707 338.72 58.1807 311.88 58.1807H271V165.561H283.27V131.661H311.8C314.25 131.661 316.71 131.501 319.01 131.351L341.25 165.561H341.29ZM283.29 119.851V70.0007H311.82C331.3 70.0007 342.34 78.2907 342.34 94.5507C342.34 111.271 331.34 119.861 311.82 119.861L283.29 119.851ZM451.4 138.411L463.4 165.561H476.74L428.74 58.1807H416L367.83 165.561H380.83L392.83 138.411H451.4ZM446.19 126.601H398L422 72.1407L446.24 126.601H446.19ZM526.11 128.741L566.91 58.1807H554.35L519.99 114.181L485.17 58.1807H472.44L514.01 129.181V165.541H526.13V128.741H526.11Z\" fill=\"var(--jp-ui-font-color0)\"/>\n",
       "        <path d=\"M82.35 104.44C84.0187 97.8827 87.8248 92.0678 93.1671 87.9146C98.5094 83.7614 105.083 81.5067 111.85 81.5067C118.617 81.5067 125.191 83.7614 130.533 87.9146C135.875 92.0678 139.681 97.8827 141.35 104.44H163.75C164.476 101.562 165.622 98.8057 167.15 96.2605L127.45 56.5605C121.071 60.3522 113.526 61.6823 106.235 60.3005C98.9443 58.9187 92.4094 54.9203 87.8602 49.0574C83.3109 43.1946 81.0609 35.8714 81.5332 28.4656C82.0056 21.0599 85.1679 14.0819 90.4252 8.8446C95.6824 3.60726 102.672 0.471508 110.08 0.0272655C117.487 -0.416977 124.802 1.86091 130.647 6.4324C136.493 11.0039 140.467 17.5539 141.821 24.8501C143.175 32.1463 141.816 39.6859 138 46.0505L177.69 85.7505C182.31 82.9877 187.58 81.4995 192.962 81.4375C198.345 81.3755 203.648 82.742 208.33 85.3976C213.012 88.0532 216.907 91.9029 219.616 96.5544C222.326 101.206 223.753 106.492 223.753 111.875C223.753 117.258 222.326 122.545 219.616 127.197C216.907 131.848 213.012 135.698 208.33 138.353C203.648 141.009 198.345 142.375 192.962 142.313C187.58 142.251 182.31 140.763 177.69 138L138 177.7C141.808 184.071 143.155 191.614 141.79 198.91C140.424 206.205 136.44 212.75 130.585 217.313C124.731 221.875 117.412 224.141 110.004 223.683C102.596 223.226 95.6103 220.077 90.3621 214.828C85.1139 209.58 81.9647 202.595 81.5072 195.187C81.0497 187.779 83.3154 180.459 87.878 174.605C92.4405 168.751 98.9853 164.766 106.281 163.401C113.576 162.035 121.119 163.383 127.49 167.19L167.19 127.49C165.664 124.941 164.518 122.182 163.79 119.3H141.39C139.721 125.858 135.915 131.673 130.573 135.826C125.231 139.98 118.657 142.234 111.89 142.234C105.123 142.234 98.5494 139.98 93.2071 135.826C87.8648 131.673 84.0587 125.858 82.39 119.3H60C58.1878 126.495 53.8086 132.78 47.6863 136.971C41.5641 141.163 34.1211 142.972 26.7579 142.059C19.3947 141.146 12.6191 137.574 7.70605 132.014C2.79302 126.454 0.0813599 119.29 0.0813599 111.87C0.0813599 104.451 2.79302 97.2871 7.70605 91.7272C12.6191 86.1673 19.3947 82.5947 26.7579 81.6817C34.1211 80.7686 41.5641 82.5781 47.6863 86.7696C53.8086 90.9611 58.1878 97.2456 60 104.44H82.35ZM100.86 204.32C103.407 206.868 106.759 208.453 110.345 208.806C113.93 209.159 117.527 208.258 120.522 206.256C123.517 204.254 125.725 201.276 126.771 197.828C127.816 194.38 127.633 190.677 126.253 187.349C124.874 184.021 122.383 181.274 119.205 179.577C116.027 177.88 112.359 177.337 108.826 178.042C105.293 178.746 102.113 180.654 99.8291 183.44C97.5451 186.226 96.2979 189.718 96.3 193.32C96.2985 195.364 96.7006 197.388 97.4831 199.275C98.2656 201.163 99.4132 202.877 100.86 204.32ZM204.32 122.88C206.868 120.333 208.453 116.981 208.806 113.396C209.159 109.811 208.258 106.214 206.256 103.219C204.254 100.223 201.275 98.0151 197.827 96.97C194.38 95.9249 190.676 96.1077 187.348 97.4873C184.02 98.8669 181.274 101.358 179.577 104.536C177.879 107.714 177.337 111.382 178.041 114.915C178.746 118.448 180.653 121.627 183.439 123.911C186.226 126.195 189.717 127.443 193.32 127.44C195.364 127.443 197.388 127.042 199.275 126.259C201.163 125.476 202.878 124.328 204.32 122.88ZM122.88 19.4205C120.333 16.8729 116.981 15.2876 113.395 14.9347C109.81 14.5817 106.213 15.483 103.218 17.4849C100.223 19.4868 98.0146 22.4654 96.9696 25.9131C95.9245 29.3608 96.1073 33.0642 97.4869 36.3922C98.8665 39.7202 101.358 42.4668 104.535 44.1639C107.713 45.861 111.381 46.4036 114.914 45.6992C118.447 44.9949 121.627 43.0871 123.911 40.301C126.195 37.515 127.442 34.0231 127.44 30.4205C127.44 28.3772 127.038 26.3539 126.255 24.4664C125.473 22.5788 124.326 20.8642 122.88 19.4205ZM19.42 100.86C16.8725 103.408 15.2872 106.76 14.9342 110.345C14.5813 113.93 15.4826 117.527 17.4844 120.522C19.4863 123.518 22.4649 125.726 25.9127 126.771C29.3604 127.816 33.0638 127.633 36.3918 126.254C39.7198 124.874 42.4664 122.383 44.1635 119.205C45.8606 116.027 46.4032 112.359 45.6988 108.826C44.9944 105.293 43.0866 102.114 40.3006 99.8296C37.5145 97.5455 34.0227 96.2983 30.42 96.3005C26.2938 96.3018 22.337 97.9421 19.42 100.86ZM100.86 100.86C98.3125 103.408 96.7272 106.76 96.3742 110.345C96.0213 113.93 96.9226 117.527 98.9244 120.522C100.926 123.518 103.905 125.726 107.353 126.771C110.8 127.816 114.504 127.633 117.832 126.254C121.16 124.874 123.906 122.383 125.604 119.205C127.301 116.027 127.843 112.359 127.139 108.826C126.434 105.293 124.527 102.114 121.741 99.8296C118.955 97.5455 115.463 96.2983 111.86 96.3005C109.817 96.299 107.793 96.701 105.905 97.4835C104.018 98.2661 102.303 99.4136 100.86 100.86Z\" fill=\"#00AEEF\"/>\n",
       "    </g>\n",
       "    <defs>\n",
       "        <clipPath id=\"clip0_4338_178347\">\n",
       "            <rect width=\"566.93\" height=\"223.75\" fill=\"white\"/>\n",
       "        </clipPath>\n",
       "    </defs>\n",
       "  </svg>\n",
       "</div>\n",
       "\n",
       "        <table class=\"jp-RenderedHTMLCommon\" style=\"border-collapse: collapse;color: var(--jp-ui-font-color1);font-size: var(--jp-ui-font-size1);\">\n",
       "    <tr>\n",
       "        <td style=\"text-align: left\"><b>Python version:</b></td>\n",
       "        <td style=\"text-align: left\"><b>3.11.10</b></td>\n",
       "    </tr>\n",
       "    <tr>\n",
       "        <td style=\"text-align: left\"><b>Ray version:</b></td>\n",
       "        <td style=\"text-align: left\"><b>2.44.1</b></td>\n",
       "    </tr>\n",
       "    <tr>\n",
       "    <td style=\"text-align: left\"><b>Dashboard:</b></td>\n",
       "    <td style=\"text-align: left\"><b><a href=\"http://127.0.0.1:8265\" target=\"_blank\">http://127.0.0.1:8265</a></b></td>\n",
       "</tr>\n",
       "\n",
       "</table>\n",
       "\n",
       "    </div>\n",
       "</div>\n"
      ],
      "text/plain": [
       "ClientContext(dashboard_url='127.0.0.1:8265', python_version='3.11.10', ray_version='2.44.1', ray_commit='daca7b2b1a950dc7f731e34e74c76ae383794ffe', _num_clients=1, _context_to_restore=<ray.util.client._ClientContext object at 0x11631e690>, protocol_version=None)"
      ]
     },
     "execution_count": 5,
     "metadata": {},
     "output_type": "execute_result"
    },
    {
     "name": "stderr",
     "output_type": "stream",
     "text": [
      "Log channel is reconnecting. Logs produced while the connection was down can be found on the head node of the cluster in `ray_client_server_[port].out`\n",
      "2025-04-14 17:11:15,875\tWARNING dataclient.py:403 -- Encountered connection issues in the data channel. Attempting to reconnect.\n"
     ]
    }
   ],
   "source": [
    "import ray\n",
    "ray.init(address=\"ray://127.0.0.1:10001\")"
   ]
  },
  {
   "cell_type": "markdown",
   "id": "ff0be5f0",
   "metadata": {},
   "source": [
    "## Ray Core"
   ]
  },
  {
   "cell_type": "code",
   "execution_count": 6,
   "id": "fcf30bdb",
   "metadata": {},
   "outputs": [
    {
     "name": "stdout",
     "output_type": "stream",
     "text": [
      "[0, 1, 4, 9]\n"
     ]
    }
   ],
   "source": [
    "# Define the square task.\n",
    "@ray.remote\n",
    "def square(x):\n",
    "    return x * x\n",
    "\n",
    "# Launch four parallel square tasks.\n",
    "futures = [square.remote(i) for i in range(4)]\n",
    "\n",
    "# Retrieve results.\n",
    "print(ray.get(futures))\n",
    "# -> [0, 1, 4, 9]"
   ]
  },
  {
   "cell_type": "code",
   "execution_count": 4,
   "id": "257cc98a",
   "metadata": {},
   "outputs": [
    {
     "name": "stdout",
     "output_type": "stream",
     "text": [
      "10\n"
     ]
    }
   ],
   "source": [
    "# Define the Counter actor.\n",
    "@ray.remote\n",
    "class Counter:\n",
    "    def __init__(self):\n",
    "        self.i = 0\n",
    "\n",
    "    def get(self):\n",
    "        return self.i\n",
    "\n",
    "    def incr(self, value):\n",
    "        self.i += value\n",
    "\n",
    "# Create a Counter actor.\n",
    "c = Counter.remote()\n",
    "\n",
    "# Submit calls to the actor. These calls run asynchronously but in\n",
    "# submission order on the remote actor process.\n",
    "for _ in range(10):\n",
    "    c.incr.remote(1)\n",
    "\n",
    "# Retrieve final actor state.\n",
    "print(ray.get(c.get.remote()))\n",
    "# -> 10"
   ]
  },
  {
   "cell_type": "code",
   "execution_count": 5,
   "id": "8a61a982",
   "metadata": {},
   "outputs": [
    {
     "name": "stdout",
     "output_type": "stream",
     "text": [
      "10000.0\n",
      "1000000.0\n"
     ]
    }
   ],
   "source": [
    "import numpy as np\n",
    "\n",
    "# Define a task that sums the values in a matrix.\n",
    "@ray.remote\n",
    "def sum_matrix(matrix):\n",
    "    return np.sum(matrix)\n",
    "\n",
    "# Call the task with a literal argument value.\n",
    "print(ray.get(sum_matrix.remote(np.ones((100, 100)))))\n",
    "# -> 10000.0\n",
    "\n",
    "# Put a large array into the object store.\n",
    "matrix_ref = ray.put(np.ones((1000, 1000)))\n",
    "\n",
    "# Call the task with the object reference as an argument.\n",
    "print(ray.get(sum_matrix.remote(matrix_ref)))\n",
    "# -> 1000000.0"
   ]
  },
  {
   "cell_type": "markdown",
   "id": "cc5a055f",
   "metadata": {},
   "source": [
    "## Scalable datasets api"
   ]
  },
  {
   "cell_type": "code",
   "execution_count": 7,
   "id": "1e68e6a6",
   "metadata": {},
   "outputs": [
    {
     "name": "stderr",
     "output_type": "stream",
     "text": [
      "2025-04-13 22:03:15,572\tINFO streaming_executor.py:108 -- Starting execution of Dataset.\n",
      "2025-04-13 22:03:15,573\tINFO streaming_executor.py:109 -- Execution plan of Dataset: InputDataBuffer[Input] -> TaskPoolMapOperator[ReadCSV] -> TaskPoolMapOperator[MapBatches(compute_area)]\n",
      "2025-04-13 22:03:15,684\tERROR worker.py:511 -- Failed to deserialize b\"\\x80\\x05\\x95z\\x00\\x00\\x00\\x00\\x00\\x00\\x00\\x8c\\x08builtins\\x94\\x8c\\tTypeError\\x94\\x93\\x94\\x8cY__init__() got an unexpected keyword argument 'check_directory_existence_before_creation'\\x94\\x85\\x94R\\x94.\"\n",
      "Traceback (most recent call last):\n",
      "  File \"/Users/chenxm/.pyenv/versions/raydev/lib/python3.11/site-packages/ray/util/client/worker.py\", line 509, in _put_pickled\n",
      "    raise cloudpickle.loads(resp.error)\n",
      "TypeError: __init__() got an unexpected keyword argument 'check_directory_existence_before_creation'\n",
      "2025-04-13 22:03:15,686\tERROR exceptions.py:73 -- Exception occurred in Ray Data or Ray Core internal code. If you continue to see this error, please open an issue on the Ray project GitHub page with the full stack trace below: https://github.com/ray-project/ray/issues/new/choose\n",
      "2025-04-13 22:03:15,687\tERROR exceptions.py:81 -- Full stack trace:\n",
      "Traceback (most recent call last):\n",
      "  File \"/Users/chenxm/.pyenv/versions/raydev/lib/python3.11/site-packages/ray/data/exceptions.py\", line 49, in handle_trace\n",
      "    return fn(*args, **kwargs)\n",
      "           ^^^^^^^^^^^^^^^^^^^\n",
      "  File \"/Users/chenxm/.pyenv/versions/raydev/lib/python3.11/site-packages/ray/data/_internal/plan.py\", line 424, in execute_to_iterator\n",
      "    bundle_iter = execute_to_legacy_bundle_iterator(executor, self)\n",
      "                  ^^^^^^^^^^^^^^^^^^^^^^^^^^^^^^^^^^^^^^^^^^^^^^^^^\n",
      "  File \"/Users/chenxm/.pyenv/versions/raydev/lib/python3.11/site-packages/ray/data/_internal/execution/legacy_compat.py\", line 51, in execute_to_legacy_bundle_iterator\n",
      "    bundle_iter = executor.execute(dag, initial_stats=stats)\n",
      "                  ^^^^^^^^^^^^^^^^^^^^^^^^^^^^^^^^^^^^^^^^^^\n",
      "  File \"/Users/chenxm/.pyenv/versions/raydev/lib/python3.11/site-packages/ray/data/_internal/execution/streaming_executor.py\", line 124, in execute\n",
      "    self._topology, _ = build_streaming_topology(dag, self._options)\n",
      "                        ^^^^^^^^^^^^^^^^^^^^^^^^^^^^^^^^^^^^^^^^^^^^\n",
      "  File \"/Users/chenxm/.pyenv/versions/raydev/lib/python3.11/site-packages/ray/data/_internal/execution/streaming_executor_state.py\", line 380, in build_streaming_topology\n",
      "    setup_state(dag)\n",
      "  File \"/Users/chenxm/.pyenv/versions/raydev/lib/python3.11/site-packages/ray/data/_internal/execution/streaming_executor_state.py\", line 371, in setup_state\n",
      "    parent_state = setup_state(parent)\n",
      "                   ^^^^^^^^^^^^^^^^^^^\n",
      "  File \"/Users/chenxm/.pyenv/versions/raydev/lib/python3.11/site-packages/ray/data/_internal/execution/streaming_executor_state.py\", line 371, in setup_state\n",
      "    parent_state = setup_state(parent)\n",
      "                   ^^^^^^^^^^^^^^^^^^^\n",
      "  File \"/Users/chenxm/.pyenv/versions/raydev/lib/python3.11/site-packages/ray/data/_internal/execution/streaming_executor_state.py\", line 377, in setup_state\n",
      "    op.start(options)\n",
      "  File \"/Users/chenxm/.pyenv/versions/raydev/lib/python3.11/site-packages/ray/data/_internal/execution/operators/input_data_buffer.py\", line 50, in start\n",
      "    self._input_data = self._input_data_factory(\n",
      "                       ^^^^^^^^^^^^^^^^^^^^^^^^^\n",
      "  File \"/Users/chenxm/.pyenv/versions/raydev/lib/python3.11/site-packages/ray/data/_internal/planner/plan_read_op.py\", line 81, in get_input_data\n",
      "    read_task_ref = ray.put(read_task)\n",
      "                    ^^^^^^^^^^^^^^^^^^\n",
      "  File \"/Users/chenxm/.pyenv/versions/raydev/lib/python3.11/site-packages/ray/_private/auto_init_hook.py\", line 21, in auto_init_wrapper\n",
      "    return fn(*args, **kwargs)\n",
      "           ^^^^^^^^^^^^^^^^^^^\n",
      "  File \"/Users/chenxm/.pyenv/versions/raydev/lib/python3.11/site-packages/ray/_private/client_mode_hook.py\", line 102, in wrapper\n",
      "    return getattr(ray, func.__name__)(*args, **kwargs)\n",
      "           ^^^^^^^^^^^^^^^^^^^^^^^^^^^^^^^^^^^^^^^^^^^^\n",
      "  File \"/Users/chenxm/.pyenv/versions/raydev/lib/python3.11/site-packages/ray/util/client/api.py\", line 52, in put\n",
      "    return self.worker.put(*args, **kwargs)\n",
      "           ^^^^^^^^^^^^^^^^^^^^^^^^^^^^^^^^\n",
      "  File \"/Users/chenxm/.pyenv/versions/raydev/lib/python3.11/site-packages/ray/util/client/worker.py\", line 495, in put\n",
      "    return self._put_pickled(data, client_ref_id, _owner)\n",
      "           ^^^^^^^^^^^^^^^^^^^^^^^^^^^^^^^^^^^^^^^^^^^^^^\n",
      "  File \"/Users/chenxm/.pyenv/versions/raydev/lib/python3.11/site-packages/ray/util/client/worker.py\", line 509, in _put_pickled\n",
      "    raise cloudpickle.loads(resp.error)\n",
      "TypeError: __init__() got an unexpected keyword argument 'check_directory_existence_before_creation'\n"
     ]
    },
    {
     "ename": "TypeError",
     "evalue": "__init__() got an unexpected keyword argument 'check_directory_existence_before_creation'",
     "output_type": "error",
     "traceback": [
      "\u001b[31m---------------------------------------------------------------------------\u001b[39m",
      "\u001b[31mSystemException\u001b[39m                           Traceback (most recent call last)",
      "\u001b[31mSystemException\u001b[39m: ",
      "\nThe above exception was the direct cause of the following exception:\n",
      "\u001b[31mTypeError\u001b[39m                                 Traceback (most recent call last)",
      "\u001b[36mCell\u001b[39m\u001b[36m \u001b[39m\u001b[32mIn[7]\u001b[39m\u001b[32m, line 18\u001b[39m\n\u001b[32m     15\u001b[39m transformed_ds = ds.map_batches(compute_area)\n\u001b[32m     17\u001b[39m \u001b[38;5;66;03m# Iterate over batches of data.\u001b[39;00m\n\u001b[32m---> \u001b[39m\u001b[32m18\u001b[39m \u001b[38;5;28;43;01mfor\u001b[39;49;00m\u001b[43m \u001b[49m\u001b[43mbatch\u001b[49m\u001b[43m \u001b[49m\u001b[38;5;129;43;01min\u001b[39;49;00m\u001b[43m \u001b[49m\u001b[43mtransformed_ds\u001b[49m\u001b[43m.\u001b[49m\u001b[43miter_batches\u001b[49m\u001b[43m(\u001b[49m\u001b[43mbatch_size\u001b[49m\u001b[43m=\u001b[49m\u001b[32;43m4\u001b[39;49m\u001b[43m)\u001b[49m\u001b[43m:\u001b[49m\n\u001b[32m     19\u001b[39m \u001b[43m    \u001b[49m\u001b[38;5;28;43mprint\u001b[39;49m\u001b[43m(\u001b[49m\u001b[43mbatch\u001b[49m\u001b[43m)\u001b[49m\n\u001b[32m     21\u001b[39m \u001b[38;5;66;03m# Save dataset contents to on-disk files or cloud storage.\u001b[39;00m\n",
      "\u001b[36mFile \u001b[39m\u001b[32m~/.pyenv/versions/raydev/lib/python3.11/site-packages/ray/data/iterator.py:154\u001b[39m, in \u001b[36mDataIterator.iter_batches.<locals>._create_iterator\u001b[39m\u001b[34m()\u001b[39m\n\u001b[32m    145\u001b[39m time_start = time.perf_counter()\n\u001b[32m    146\u001b[39m \u001b[38;5;66;03m# Iterate through the dataset from the start each time\u001b[39;00m\n\u001b[32m    147\u001b[39m \u001b[38;5;66;03m# _iterator_gen is called.\u001b[39;00m\n\u001b[32m    148\u001b[39m \u001b[38;5;66;03m# This allows multiple iterations of the dataset without\u001b[39;00m\n\u001b[32m    149\u001b[39m \u001b[38;5;66;03m# needing to explicitly call `iter_batches()` multiple times.\u001b[39;00m\n\u001b[32m    150\u001b[39m (\n\u001b[32m    151\u001b[39m     ref_bundles_iterator,\n\u001b[32m    152\u001b[39m     stats,\n\u001b[32m    153\u001b[39m     blocks_owned_by_consumer,\n\u001b[32m--> \u001b[39m\u001b[32m154\u001b[39m ) = \u001b[38;5;28;43mself\u001b[39;49m\u001b[43m.\u001b[49m\u001b[43m_to_ref_bundle_iterator\u001b[49m\u001b[43m(\u001b[49m\u001b[43m)\u001b[49m\n\u001b[32m    156\u001b[39m iterator = \u001b[38;5;28miter\u001b[39m(\n\u001b[32m    157\u001b[39m     iter_batches(\n\u001b[32m    158\u001b[39m         ref_bundles_iterator,\n\u001b[32m   (...)\u001b[39m\u001b[32m    169\u001b[39m     )\n\u001b[32m    170\u001b[39m )\n\u001b[32m    172\u001b[39m dataset_tag = \u001b[38;5;28mself\u001b[39m._get_dataset_tag()\n",
      "\u001b[36mFile \u001b[39m\u001b[32m~/.pyenv/versions/raydev/lib/python3.11/site-packages/ray/data/_internal/iterator/iterator_impl.py:28\u001b[39m, in \u001b[36mDataIteratorImpl._to_ref_bundle_iterator\u001b[39m\u001b[34m(self)\u001b[39m\n\u001b[32m     24\u001b[39m \u001b[38;5;28;01mdef\u001b[39;00m\u001b[38;5;250m \u001b[39m\u001b[34m_to_ref_bundle_iterator\u001b[39m(\n\u001b[32m     25\u001b[39m     \u001b[38;5;28mself\u001b[39m,\n\u001b[32m     26\u001b[39m ) -> Tuple[Iterator[RefBundle], Optional[DatasetStats], \u001b[38;5;28mbool\u001b[39m]:\n\u001b[32m     27\u001b[39m     ds = \u001b[38;5;28mself\u001b[39m._base_dataset\n\u001b[32m---> \u001b[39m\u001b[32m28\u001b[39m     ref_bundles_iterator, stats, executor = \u001b[43mds\u001b[49m\u001b[43m.\u001b[49m\u001b[43m_plan\u001b[49m\u001b[43m.\u001b[49m\u001b[43mexecute_to_iterator\u001b[49m\u001b[43m(\u001b[49m\u001b[43m)\u001b[49m\n\u001b[32m     29\u001b[39m     ds._current_executor = executor\n\u001b[32m     30\u001b[39m     \u001b[38;5;28;01mreturn\u001b[39;00m ref_bundles_iterator, stats, \u001b[38;5;28;01mFalse\u001b[39;00m\n",
      "\u001b[36mFile \u001b[39m\u001b[32m~/.pyenv/versions/raydev/lib/python3.11/site-packages/ray/data/exceptions.py:89\u001b[39m, in \u001b[36momit_traceback_stdout.<locals>.handle_trace\u001b[39m\u001b[34m(*args, **kwargs)\u001b[39m\n\u001b[32m     87\u001b[39m     \u001b[38;5;28;01mraise\u001b[39;00m e.with_traceback(\u001b[38;5;28;01mNone\u001b[39;00m)\n\u001b[32m     88\u001b[39m \u001b[38;5;28;01melse\u001b[39;00m:\n\u001b[32m---> \u001b[39m\u001b[32m89\u001b[39m     \u001b[38;5;28;01mraise\u001b[39;00m e.with_traceback(\u001b[38;5;28;01mNone\u001b[39;00m) \u001b[38;5;28;01mfrom\u001b[39;00m\u001b[38;5;250m \u001b[39m\u001b[34;01mSystemException\u001b[39;00m()\n",
      "\u001b[31mTypeError\u001b[39m: __init__() got an unexpected keyword argument 'check_directory_existence_before_creation'"
     ]
    }
   ],
   "source": [
    "from typing import Dict\n",
    "import numpy as np\n",
    "import ray\n",
    "\n",
    "# Create datasets from on-disk files, Python objects, and cloud storage like S3.\n",
    "ds = ray.data.read_csv(\"s3://anonymous@ray-example-data/iris.csv\")\n",
    "\n",
    "# Apply functions to transform data. Ray Data executes transformations in parallel.\n",
    "def compute_area(batch: Dict[str, np.ndarray]) -> Dict[str, np.ndarray]:\n",
    "    length = batch[\"petal length (cm)\"]\n",
    "    width = batch[\"petal width (cm)\"]\n",
    "    batch[\"petal area (cm^2)\"] = length * width\n",
    "    return batch\n",
    "\n",
    "transformed_ds = ds.map_batches(compute_area)\n",
    "\n",
    "# Iterate over batches of data.\n",
    "for batch in transformed_ds.iter_batches(batch_size=4):\n",
    "    print(batch)\n",
    "\n",
    "# Save dataset contents to on-disk files or cloud storage.\n",
    "transformed_ds.write_parquet(\"local:///tmp/iris/\")"
   ]
  }
 ],
 "metadata": {
  "kernelspec": {
   "display_name": "raydev",
   "language": "python",
   "name": "python3"
  },
  "language_info": {
   "codemirror_mode": {
    "name": "ipython",
    "version": 3
   },
   "file_extension": ".py",
   "mimetype": "text/x-python",
   "name": "python",
   "nbconvert_exporter": "python",
   "pygments_lexer": "ipython3",
   "version": "3.11.10"
  }
 },
 "nbformat": 4,
 "nbformat_minor": 5
}
