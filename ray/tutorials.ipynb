{
 "cells": [
  {
   "cell_type": "code",
   "execution_count": 1,
   "id": "cafbe591",
   "metadata": {},
   "outputs": [
    {
     "name": "stderr",
     "output_type": "stream",
     "text": [
      "2025-04-14 16:56:20,018\tINFO util.py:154 -- Missing packages: ['ipywidgets']. Run `pip install -U ipywidgets`, then restart the notebook server for rich notebook output.\n"
     ]
    }
   ],
   "source": [
    "import ray\n",
    "ray.shutdown()"
   ]
  },
  {
   "cell_type": "code",
   "execution_count": 2,
   "id": "cebe048c",
   "metadata": {},
   "outputs": [
    {
     "name": "stderr",
     "output_type": "stream",
     "text": [
      "2025-04-17 07:32:52,044\tINFO client_builder.py:244 -- Passing the following kwargs to ray.init() on the server: log_to_driver\n"
     ]
    },
    {
     "ename": "ConnectionError",
     "evalue": "ray client connection timeout",
     "output_type": "error",
     "traceback": [
      "\u001b[31m---------------------------------------------------------------------------\u001b[39m",
      "\u001b[31mConnectionError\u001b[39m                           Traceback (most recent call last)",
      "\u001b[36mCell\u001b[39m\u001b[36m \u001b[39m\u001b[32mIn[2]\u001b[39m\u001b[32m, line 2\u001b[39m\n\u001b[32m      1\u001b[39m \u001b[38;5;28;01mimport\u001b[39;00m\u001b[38;5;250m \u001b[39m\u001b[34;01mray\u001b[39;00m\n\u001b[32m----> \u001b[39m\u001b[32m2\u001b[39m \u001b[43mray\u001b[49m\u001b[43m.\u001b[49m\u001b[43minit\u001b[49m\u001b[43m(\u001b[49m\u001b[43maddress\u001b[49m\u001b[43m=\u001b[49m\u001b[33;43m\"\u001b[39;49m\u001b[33;43mray://30.221.67.189:10001\u001b[39;49m\u001b[33;43m\"\u001b[39;49m\u001b[43m)\u001b[49m\n",
      "\u001b[36mFile \u001b[39m\u001b[32m~/.pyenv/versions/raydev/lib/python3.11/site-packages/ray/_private/client_mode_hook.py:103\u001b[39m, in \u001b[36mclient_mode_hook.<locals>.wrapper\u001b[39m\u001b[34m(*args, **kwargs)\u001b[39m\n\u001b[32m    101\u001b[39m     \u001b[38;5;28;01mif\u001b[39;00m func.\u001b[34m__name__\u001b[39m != \u001b[33m\"\u001b[39m\u001b[33minit\u001b[39m\u001b[33m\"\u001b[39m \u001b[38;5;129;01mor\u001b[39;00m is_client_mode_enabled_by_default:\n\u001b[32m    102\u001b[39m         \u001b[38;5;28;01mreturn\u001b[39;00m \u001b[38;5;28mgetattr\u001b[39m(ray, func.\u001b[34m__name__\u001b[39m)(*args, **kwargs)\n\u001b[32m--> \u001b[39m\u001b[32m103\u001b[39m \u001b[38;5;28;01mreturn\u001b[39;00m \u001b[43mfunc\u001b[49m\u001b[43m(\u001b[49m\u001b[43m*\u001b[49m\u001b[43margs\u001b[49m\u001b[43m,\u001b[49m\u001b[43m \u001b[49m\u001b[43m*\u001b[49m\u001b[43m*\u001b[49m\u001b[43mkwargs\u001b[49m\u001b[43m)\u001b[49m\n",
      "\u001b[36mFile \u001b[39m\u001b[32m~/.pyenv/versions/raydev/lib/python3.11/site-packages/ray/_private/worker.py:1545\u001b[39m, in \u001b[36minit\u001b[39m\u001b[34m(address, num_cpus, num_gpus, resources, labels, object_store_memory, local_mode, ignore_reinit_error, include_dashboard, dashboard_host, dashboard_port, job_config, configure_logging, logging_level, logging_format, logging_config, log_to_driver, namespace, runtime_env, storage, **kwargs)\u001b[39m\n\u001b[32m   1543\u001b[39m passed_kwargs.update(kwargs)\n\u001b[32m   1544\u001b[39m builder._init_args(**passed_kwargs)\n\u001b[32m-> \u001b[39m\u001b[32m1545\u001b[39m ctx = \u001b[43mbuilder\u001b[49m\u001b[43m.\u001b[49m\u001b[43mconnect\u001b[49m\u001b[43m(\u001b[49m\u001b[43m)\u001b[49m\n\u001b[32m   1546\u001b[39m \u001b[38;5;28;01mfrom\u001b[39;00m\u001b[38;5;250m \u001b[39m\u001b[34;01mray\u001b[39;00m\u001b[34;01m.\u001b[39;00m\u001b[34;01m_private\u001b[39;00m\u001b[34;01m.\u001b[39;00m\u001b[34;01musage\u001b[39;00m\u001b[38;5;250m \u001b[39m\u001b[38;5;28;01mimport\u001b[39;00m usage_lib\n\u001b[32m   1548\u001b[39m \u001b[38;5;28;01mif\u001b[39;00m passed_kwargs.get(\u001b[33m\"\u001b[39m\u001b[33mallow_multiple\u001b[39m\u001b[33m\"\u001b[39m) \u001b[38;5;129;01mis\u001b[39;00m \u001b[38;5;28;01mTrue\u001b[39;00m:\n",
      "\u001b[36mFile \u001b[39m\u001b[32m~/.pyenv/versions/raydev/lib/python3.11/site-packages/ray/client_builder.py:175\u001b[39m, in \u001b[36mClientBuilder.connect\u001b[39m\u001b[34m(self)\u001b[39m\n\u001b[32m    172\u001b[39m \u001b[38;5;28;01mif\u001b[39;00m \u001b[38;5;28mself\u001b[39m._allow_multiple_connections:\n\u001b[32m    173\u001b[39m     old_ray_cxt = ray.util.client.ray.set_context(\u001b[38;5;28;01mNone\u001b[39;00m)\n\u001b[32m--> \u001b[39m\u001b[32m175\u001b[39m client_info_dict = \u001b[43mray\u001b[49m\u001b[43m.\u001b[49m\u001b[43mutil\u001b[49m\u001b[43m.\u001b[49m\u001b[43mclient_connect\u001b[49m\u001b[43m.\u001b[49m\u001b[43mconnect\u001b[49m\u001b[43m(\u001b[49m\n\u001b[32m    176\u001b[39m \u001b[43m    \u001b[49m\u001b[38;5;28;43mself\u001b[39;49m\u001b[43m.\u001b[49m\u001b[43maddress\u001b[49m\u001b[43m,\u001b[49m\n\u001b[32m    177\u001b[39m \u001b[43m    \u001b[49m\u001b[43mjob_config\u001b[49m\u001b[43m=\u001b[49m\u001b[38;5;28;43mself\u001b[39;49m\u001b[43m.\u001b[49m\u001b[43m_job_config\u001b[49m\u001b[43m,\u001b[49m\n\u001b[32m    178\u001b[39m \u001b[43m    \u001b[49m\u001b[43m_credentials\u001b[49m\u001b[43m=\u001b[49m\u001b[38;5;28;43mself\u001b[39;49m\u001b[43m.\u001b[49m\u001b[43m_credentials\u001b[49m\u001b[43m,\u001b[49m\n\u001b[32m    179\u001b[39m \u001b[43m    \u001b[49m\u001b[43mray_init_kwargs\u001b[49m\u001b[43m=\u001b[49m\u001b[38;5;28;43mself\u001b[39;49m\u001b[43m.\u001b[49m\u001b[43m_remote_init_kwargs\u001b[49m\u001b[43m,\u001b[49m\n\u001b[32m    180\u001b[39m \u001b[43m    \u001b[49m\u001b[43mmetadata\u001b[49m\u001b[43m=\u001b[49m\u001b[38;5;28;43mself\u001b[39;49m\u001b[43m.\u001b[49m\u001b[43m_metadata\u001b[49m\u001b[43m,\u001b[49m\n\u001b[32m    181\u001b[39m \u001b[43m\u001b[49m\u001b[43m)\u001b[49m\n\u001b[32m    183\u001b[39m dashboard_url = ray.util.client.ray._get_dashboard_url()\n\u001b[32m    185\u001b[39m cxt = ClientContext(\n\u001b[32m    186\u001b[39m     dashboard_url=dashboard_url,\n\u001b[32m    187\u001b[39m     python_version=client_info_dict[\u001b[33m\"\u001b[39m\u001b[33mpython_version\u001b[39m\u001b[33m\"\u001b[39m],\n\u001b[32m   (...)\u001b[39m\u001b[32m    191\u001b[39m     _context_to_restore=ray.util.client.ray.get_context(),\n\u001b[32m    192\u001b[39m )\n",
      "\u001b[36mFile \u001b[39m\u001b[32m~/.pyenv/versions/raydev/lib/python3.11/site-packages/ray/util/client_connect.py:55\u001b[39m, in \u001b[36mconnect\u001b[39m\u001b[34m(conn_str, secure, metadata, connection_retries, job_config, namespace, ignore_version, _credentials, ray_init_kwargs)\u001b[39m\n\u001b[32m     50\u001b[39m _explicitly_enable_client_mode()\n\u001b[32m     52\u001b[39m \u001b[38;5;66;03m# TODO(barakmich): https://github.com/ray-project/ray/issues/13274\u001b[39;00m\n\u001b[32m     53\u001b[39m \u001b[38;5;66;03m# for supporting things like cert_path, ca_path, etc and creating\u001b[39;00m\n\u001b[32m     54\u001b[39m \u001b[38;5;66;03m# the correct metadata\u001b[39;00m\n\u001b[32m---> \u001b[39m\u001b[32m55\u001b[39m conn = \u001b[43mray\u001b[49m\u001b[43m.\u001b[49m\u001b[43mconnect\u001b[49m\u001b[43m(\u001b[49m\n\u001b[32m     56\u001b[39m \u001b[43m    \u001b[49m\u001b[43mconn_str\u001b[49m\u001b[43m,\u001b[49m\n\u001b[32m     57\u001b[39m \u001b[43m    \u001b[49m\u001b[43mjob_config\u001b[49m\u001b[43m=\u001b[49m\u001b[43mjob_config\u001b[49m\u001b[43m,\u001b[49m\n\u001b[32m     58\u001b[39m \u001b[43m    \u001b[49m\u001b[43msecure\u001b[49m\u001b[43m=\u001b[49m\u001b[43msecure\u001b[49m\u001b[43m,\u001b[49m\n\u001b[32m     59\u001b[39m \u001b[43m    \u001b[49m\u001b[43mmetadata\u001b[49m\u001b[43m=\u001b[49m\u001b[43mmetadata\u001b[49m\u001b[43m,\u001b[49m\n\u001b[32m     60\u001b[39m \u001b[43m    \u001b[49m\u001b[43mconnection_retries\u001b[49m\u001b[43m=\u001b[49m\u001b[43mconnection_retries\u001b[49m\u001b[43m,\u001b[49m\n\u001b[32m     61\u001b[39m \u001b[43m    \u001b[49m\u001b[43mnamespace\u001b[49m\u001b[43m=\u001b[49m\u001b[43mnamespace\u001b[49m\u001b[43m,\u001b[49m\n\u001b[32m     62\u001b[39m \u001b[43m    \u001b[49m\u001b[43mignore_version\u001b[49m\u001b[43m=\u001b[49m\u001b[43mignore_version\u001b[49m\u001b[43m,\u001b[49m\n\u001b[32m     63\u001b[39m \u001b[43m    \u001b[49m\u001b[43m_credentials\u001b[49m\u001b[43m=\u001b[49m\u001b[43m_credentials\u001b[49m\u001b[43m,\u001b[49m\n\u001b[32m     64\u001b[39m \u001b[43m    \u001b[49m\u001b[43mray_init_kwargs\u001b[49m\u001b[43m=\u001b[49m\u001b[43mray_init_kwargs\u001b[49m\u001b[43m,\u001b[49m\n\u001b[32m     65\u001b[39m \u001b[43m\u001b[49m\u001b[43m)\u001b[49m\n\u001b[32m     66\u001b[39m \u001b[38;5;28;01mreturn\u001b[39;00m conn\n",
      "\u001b[36mFile \u001b[39m\u001b[32m~/.pyenv/versions/raydev/lib/python3.11/site-packages/ray/util/client/__init__.py:233\u001b[39m, in \u001b[36mRayAPIStub.connect\u001b[39m\u001b[34m(self, *args, **kw_args)\u001b[39m\n\u001b[32m    231\u001b[39m \u001b[38;5;28;01mdef\u001b[39;00m\u001b[38;5;250m \u001b[39m\u001b[34mconnect\u001b[39m(\u001b[38;5;28mself\u001b[39m, *args, **kw_args):\n\u001b[32m    232\u001b[39m     \u001b[38;5;28mself\u001b[39m.get_context()._inside_client_test = \u001b[38;5;28mself\u001b[39m._inside_client_test\n\u001b[32m--> \u001b[39m\u001b[32m233\u001b[39m     conn = \u001b[38;5;28;43mself\u001b[39;49m\u001b[43m.\u001b[49m\u001b[43mget_context\u001b[49m\u001b[43m(\u001b[49m\u001b[43m)\u001b[49m\u001b[43m.\u001b[49m\u001b[43mconnect\u001b[49m\u001b[43m(\u001b[49m\u001b[43m*\u001b[49m\u001b[43margs\u001b[49m\u001b[43m,\u001b[49m\u001b[43m \u001b[49m\u001b[43m*\u001b[49m\u001b[43m*\u001b[49m\u001b[43mkw_args\u001b[49m\u001b[43m)\u001b[49m\n\u001b[32m    234\u001b[39m     \u001b[38;5;28;01mglobal\u001b[39;00m _lock, _all_contexts\n\u001b[32m    235\u001b[39m     \u001b[38;5;28;01mwith\u001b[39;00m _lock:\n",
      "\u001b[36mFile \u001b[39m\u001b[32m~/.pyenv/versions/raydev/lib/python3.11/site-packages/ray/util/client/__init__.py:89\u001b[39m, in \u001b[36m_ClientContext.connect\u001b[39m\u001b[34m(self, conn_str, job_config, secure, metadata, connection_retries, namespace, ignore_version, _credentials, ray_init_kwargs)\u001b[39m\n\u001b[32m     86\u001b[39m setup_logger(logging_level, logging_format)\n\u001b[32m     88\u001b[39m \u001b[38;5;28;01mtry\u001b[39;00m:\n\u001b[32m---> \u001b[39m\u001b[32m89\u001b[39m     \u001b[38;5;28mself\u001b[39m.client_worker = \u001b[43mWorker\u001b[49m\u001b[43m(\u001b[49m\n\u001b[32m     90\u001b[39m \u001b[43m        \u001b[49m\u001b[43mconn_str\u001b[49m\u001b[43m,\u001b[49m\n\u001b[32m     91\u001b[39m \u001b[43m        \u001b[49m\u001b[43msecure\u001b[49m\u001b[43m=\u001b[49m\u001b[43msecure\u001b[49m\u001b[43m,\u001b[49m\n\u001b[32m     92\u001b[39m \u001b[43m        \u001b[49m\u001b[43m_credentials\u001b[49m\u001b[43m=\u001b[49m\u001b[43m_credentials\u001b[49m\u001b[43m,\u001b[49m\n\u001b[32m     93\u001b[39m \u001b[43m        \u001b[49m\u001b[43mmetadata\u001b[49m\u001b[43m=\u001b[49m\u001b[43mmetadata\u001b[49m\u001b[43m,\u001b[49m\n\u001b[32m     94\u001b[39m \u001b[43m        \u001b[49m\u001b[43mconnection_retries\u001b[49m\u001b[43m=\u001b[49m\u001b[43mconnection_retries\u001b[49m\u001b[43m,\u001b[49m\n\u001b[32m     95\u001b[39m \u001b[43m    \u001b[49m\u001b[43m)\u001b[49m\n\u001b[32m     96\u001b[39m     \u001b[38;5;28mself\u001b[39m.api.worker = \u001b[38;5;28mself\u001b[39m.client_worker\n\u001b[32m     97\u001b[39m     \u001b[38;5;28mself\u001b[39m.client_worker._server_init(job_config, ray_init_kwargs)\n",
      "\u001b[36mFile \u001b[39m\u001b[32m~/.pyenv/versions/raydev/lib/python3.11/site-packages/ray/util/client/worker.py:139\u001b[39m, in \u001b[36mWorker.__init__\u001b[39m\u001b[34m(self, conn_str, secure, metadata, connection_retries, _credentials)\u001b[39m\n\u001b[32m    136\u001b[39m \u001b[38;5;66;03m# Set to True after initial connection succeeds\u001b[39;00m\n\u001b[32m    137\u001b[39m \u001b[38;5;28mself\u001b[39m._has_connected = \u001b[38;5;28;01mFalse\u001b[39;00m\n\u001b[32m--> \u001b[39m\u001b[32m139\u001b[39m \u001b[38;5;28;43mself\u001b[39;49m\u001b[43m.\u001b[49m\u001b[43m_connect_channel\u001b[49m\u001b[43m(\u001b[49m\u001b[43m)\u001b[49m\n\u001b[32m    140\u001b[39m \u001b[38;5;28mself\u001b[39m._has_connected = \u001b[38;5;28;01mTrue\u001b[39;00m\n\u001b[32m    142\u001b[39m \u001b[38;5;66;03m# Has Ray been initialized on the server?\u001b[39;00m\n",
      "\u001b[36mFile \u001b[39m\u001b[32m~/.pyenv/versions/raydev/lib/python3.11/site-packages/ray/util/client/worker.py:260\u001b[39m, in \u001b[36mWorker._connect_channel\u001b[39m\u001b[34m(self, reconnecting)\u001b[39m\n\u001b[32m    252\u001b[39m \u001b[38;5;28;01mif\u001b[39;00m log_once(\u001b[33m\"\u001b[39m\u001b[33mray_client_security_groups\u001b[39m\u001b[33m\"\u001b[39m):\n\u001b[32m    253\u001b[39m     warnings.warn(\n\u001b[32m    254\u001b[39m         \u001b[33m\"\u001b[39m\u001b[33mRay Client connection timed out. Ensure that \u001b[39m\u001b[33m\"\u001b[39m\n\u001b[32m    255\u001b[39m         \u001b[33m\"\u001b[39m\u001b[33mthe Ray Client port on the head node is reachable \u001b[39m\u001b[33m\"\u001b[39m\n\u001b[32m   (...)\u001b[39m\u001b[32m    258\u001b[39m         \u001b[33m\"\u001b[39m\u001b[33mmore information.\u001b[39m\u001b[33m\"\u001b[39m\n\u001b[32m    259\u001b[39m     )\n\u001b[32m--> \u001b[39m\u001b[32m260\u001b[39m \u001b[38;5;28;01mraise\u001b[39;00m \u001b[38;5;167;01mConnectionError\u001b[39;00m(\u001b[33m\"\u001b[39m\u001b[33mray client connection timeout\u001b[39m\u001b[33m\"\u001b[39m)\n",
      "\u001b[31mConnectionError\u001b[39m: ray client connection timeout"
     ]
    }
   ],
   "source": [
    "import ray\n",
    "ray.init(address=\"ray://30.221.67.189:10001\")"
   ]
  },
  {
   "cell_type": "markdown",
   "id": "ff0be5f0",
   "metadata": {},
   "source": [
    "## Ray Core"
   ]
  },
  {
   "cell_type": "code",
   "execution_count": 6,
   "id": "fcf30bdb",
   "metadata": {},
   "outputs": [
    {
     "name": "stdout",
     "output_type": "stream",
     "text": [
      "[0, 1, 4, 9]\n"
     ]
    }
   ],
   "source": [
    "# Define the square task.\n",
    "@ray.remote\n",
    "def square(x):\n",
    "    return x * x\n",
    "\n",
    "# Launch four parallel square tasks.\n",
    "futures = [square.remote(i) for i in range(4)]\n",
    "\n",
    "# Retrieve results.\n",
    "print(ray.get(futures))\n",
    "# -> [0, 1, 4, 9]"
   ]
  },
  {
   "cell_type": "code",
   "execution_count": 4,
   "id": "257cc98a",
   "metadata": {},
   "outputs": [
    {
     "name": "stdout",
     "output_type": "stream",
     "text": [
      "10\n"
     ]
    }
   ],
   "source": [
    "# Define the Counter actor.\n",
    "@ray.remote\n",
    "class Counter:\n",
    "    def __init__(self):\n",
    "        self.i = 0\n",
    "\n",
    "    def get(self):\n",
    "        return self.i\n",
    "\n",
    "    def incr(self, value):\n",
    "        self.i += value\n",
    "\n",
    "# Create a Counter actor.\n",
    "c = Counter.remote()\n",
    "\n",
    "# Submit calls to the actor. These calls run asynchronously but in\n",
    "# submission order on the remote actor process.\n",
    "for _ in range(10):\n",
    "    c.incr.remote(1)\n",
    "\n",
    "# Retrieve final actor state.\n",
    "print(ray.get(c.get.remote()))\n",
    "# -> 10"
   ]
  },
  {
   "cell_type": "code",
   "execution_count": 5,
   "id": "8a61a982",
   "metadata": {},
   "outputs": [
    {
     "name": "stdout",
     "output_type": "stream",
     "text": [
      "10000.0\n",
      "1000000.0\n"
     ]
    }
   ],
   "source": [
    "import numpy as np\n",
    "\n",
    "# Define a task that sums the values in a matrix.\n",
    "@ray.remote\n",
    "def sum_matrix(matrix):\n",
    "    return np.sum(matrix)\n",
    "\n",
    "# Call the task with a literal argument value.\n",
    "print(ray.get(sum_matrix.remote(np.ones((100, 100)))))\n",
    "# -> 10000.0\n",
    "\n",
    "# Put a large array into the object store.\n",
    "matrix_ref = ray.put(np.ones((1000, 1000)))\n",
    "\n",
    "# Call the task with the object reference as an argument.\n",
    "print(ray.get(sum_matrix.remote(matrix_ref)))\n",
    "# -> 1000000.0"
   ]
  },
  {
   "cell_type": "markdown",
   "id": "cc5a055f",
   "metadata": {},
   "source": [
    "## Scalable datasets api"
   ]
  },
  {
   "cell_type": "code",
   "execution_count": 7,
   "id": "1e68e6a6",
   "metadata": {},
   "outputs": [
    {
     "name": "stderr",
     "output_type": "stream",
     "text": [
      "2025-04-13 22:03:15,572\tINFO streaming_executor.py:108 -- Starting execution of Dataset.\n",
      "2025-04-13 22:03:15,573\tINFO streaming_executor.py:109 -- Execution plan of Dataset: InputDataBuffer[Input] -> TaskPoolMapOperator[ReadCSV] -> TaskPoolMapOperator[MapBatches(compute_area)]\n",
      "2025-04-13 22:03:15,684\tERROR worker.py:511 -- Failed to deserialize b\"\\x80\\x05\\x95z\\x00\\x00\\x00\\x00\\x00\\x00\\x00\\x8c\\x08builtins\\x94\\x8c\\tTypeError\\x94\\x93\\x94\\x8cY__init__() got an unexpected keyword argument 'check_directory_existence_before_creation'\\x94\\x85\\x94R\\x94.\"\n",
      "Traceback (most recent call last):\n",
      "  File \"/Users/chenxm/.pyenv/versions/raydev/lib/python3.11/site-packages/ray/util/client/worker.py\", line 509, in _put_pickled\n",
      "    raise cloudpickle.loads(resp.error)\n",
      "TypeError: __init__() got an unexpected keyword argument 'check_directory_existence_before_creation'\n",
      "2025-04-13 22:03:15,686\tERROR exceptions.py:73 -- Exception occurred in Ray Data or Ray Core internal code. If you continue to see this error, please open an issue on the Ray project GitHub page with the full stack trace below: https://github.com/ray-project/ray/issues/new/choose\n",
      "2025-04-13 22:03:15,687\tERROR exceptions.py:81 -- Full stack trace:\n",
      "Traceback (most recent call last):\n",
      "  File \"/Users/chenxm/.pyenv/versions/raydev/lib/python3.11/site-packages/ray/data/exceptions.py\", line 49, in handle_trace\n",
      "    return fn(*args, **kwargs)\n",
      "           ^^^^^^^^^^^^^^^^^^^\n",
      "  File \"/Users/chenxm/.pyenv/versions/raydev/lib/python3.11/site-packages/ray/data/_internal/plan.py\", line 424, in execute_to_iterator\n",
      "    bundle_iter = execute_to_legacy_bundle_iterator(executor, self)\n",
      "                  ^^^^^^^^^^^^^^^^^^^^^^^^^^^^^^^^^^^^^^^^^^^^^^^^^\n",
      "  File \"/Users/chenxm/.pyenv/versions/raydev/lib/python3.11/site-packages/ray/data/_internal/execution/legacy_compat.py\", line 51, in execute_to_legacy_bundle_iterator\n",
      "    bundle_iter = executor.execute(dag, initial_stats=stats)\n",
      "                  ^^^^^^^^^^^^^^^^^^^^^^^^^^^^^^^^^^^^^^^^^^\n",
      "  File \"/Users/chenxm/.pyenv/versions/raydev/lib/python3.11/site-packages/ray/data/_internal/execution/streaming_executor.py\", line 124, in execute\n",
      "    self._topology, _ = build_streaming_topology(dag, self._options)\n",
      "                        ^^^^^^^^^^^^^^^^^^^^^^^^^^^^^^^^^^^^^^^^^^^^\n",
      "  File \"/Users/chenxm/.pyenv/versions/raydev/lib/python3.11/site-packages/ray/data/_internal/execution/streaming_executor_state.py\", line 380, in build_streaming_topology\n",
      "    setup_state(dag)\n",
      "  File \"/Users/chenxm/.pyenv/versions/raydev/lib/python3.11/site-packages/ray/data/_internal/execution/streaming_executor_state.py\", line 371, in setup_state\n",
      "    parent_state = setup_state(parent)\n",
      "                   ^^^^^^^^^^^^^^^^^^^\n",
      "  File \"/Users/chenxm/.pyenv/versions/raydev/lib/python3.11/site-packages/ray/data/_internal/execution/streaming_executor_state.py\", line 371, in setup_state\n",
      "    parent_state = setup_state(parent)\n",
      "                   ^^^^^^^^^^^^^^^^^^^\n",
      "  File \"/Users/chenxm/.pyenv/versions/raydev/lib/python3.11/site-packages/ray/data/_internal/execution/streaming_executor_state.py\", line 377, in setup_state\n",
      "    op.start(options)\n",
      "  File \"/Users/chenxm/.pyenv/versions/raydev/lib/python3.11/site-packages/ray/data/_internal/execution/operators/input_data_buffer.py\", line 50, in start\n",
      "    self._input_data = self._input_data_factory(\n",
      "                       ^^^^^^^^^^^^^^^^^^^^^^^^^\n",
      "  File \"/Users/chenxm/.pyenv/versions/raydev/lib/python3.11/site-packages/ray/data/_internal/planner/plan_read_op.py\", line 81, in get_input_data\n",
      "    read_task_ref = ray.put(read_task)\n",
      "                    ^^^^^^^^^^^^^^^^^^\n",
      "  File \"/Users/chenxm/.pyenv/versions/raydev/lib/python3.11/site-packages/ray/_private/auto_init_hook.py\", line 21, in auto_init_wrapper\n",
      "    return fn(*args, **kwargs)\n",
      "           ^^^^^^^^^^^^^^^^^^^\n",
      "  File \"/Users/chenxm/.pyenv/versions/raydev/lib/python3.11/site-packages/ray/_private/client_mode_hook.py\", line 102, in wrapper\n",
      "    return getattr(ray, func.__name__)(*args, **kwargs)\n",
      "           ^^^^^^^^^^^^^^^^^^^^^^^^^^^^^^^^^^^^^^^^^^^^\n",
      "  File \"/Users/chenxm/.pyenv/versions/raydev/lib/python3.11/site-packages/ray/util/client/api.py\", line 52, in put\n",
      "    return self.worker.put(*args, **kwargs)\n",
      "           ^^^^^^^^^^^^^^^^^^^^^^^^^^^^^^^^\n",
      "  File \"/Users/chenxm/.pyenv/versions/raydev/lib/python3.11/site-packages/ray/util/client/worker.py\", line 495, in put\n",
      "    return self._put_pickled(data, client_ref_id, _owner)\n",
      "           ^^^^^^^^^^^^^^^^^^^^^^^^^^^^^^^^^^^^^^^^^^^^^^\n",
      "  File \"/Users/chenxm/.pyenv/versions/raydev/lib/python3.11/site-packages/ray/util/client/worker.py\", line 509, in _put_pickled\n",
      "    raise cloudpickle.loads(resp.error)\n",
      "TypeError: __init__() got an unexpected keyword argument 'check_directory_existence_before_creation'\n"
     ]
    },
    {
     "ename": "TypeError",
     "evalue": "__init__() got an unexpected keyword argument 'check_directory_existence_before_creation'",
     "output_type": "error",
     "traceback": [
      "\u001b[31m---------------------------------------------------------------------------\u001b[39m",
      "\u001b[31mSystemException\u001b[39m                           Traceback (most recent call last)",
      "\u001b[31mSystemException\u001b[39m: ",
      "\nThe above exception was the direct cause of the following exception:\n",
      "\u001b[31mTypeError\u001b[39m                                 Traceback (most recent call last)",
      "\u001b[36mCell\u001b[39m\u001b[36m \u001b[39m\u001b[32mIn[7]\u001b[39m\u001b[32m, line 18\u001b[39m\n\u001b[32m     15\u001b[39m transformed_ds = ds.map_batches(compute_area)\n\u001b[32m     17\u001b[39m \u001b[38;5;66;03m# Iterate over batches of data.\u001b[39;00m\n\u001b[32m---> \u001b[39m\u001b[32m18\u001b[39m \u001b[38;5;28;43;01mfor\u001b[39;49;00m\u001b[43m \u001b[49m\u001b[43mbatch\u001b[49m\u001b[43m \u001b[49m\u001b[38;5;129;43;01min\u001b[39;49;00m\u001b[43m \u001b[49m\u001b[43mtransformed_ds\u001b[49m\u001b[43m.\u001b[49m\u001b[43miter_batches\u001b[49m\u001b[43m(\u001b[49m\u001b[43mbatch_size\u001b[49m\u001b[43m=\u001b[49m\u001b[32;43m4\u001b[39;49m\u001b[43m)\u001b[49m\u001b[43m:\u001b[49m\n\u001b[32m     19\u001b[39m \u001b[43m    \u001b[49m\u001b[38;5;28;43mprint\u001b[39;49m\u001b[43m(\u001b[49m\u001b[43mbatch\u001b[49m\u001b[43m)\u001b[49m\n\u001b[32m     21\u001b[39m \u001b[38;5;66;03m# Save dataset contents to on-disk files or cloud storage.\u001b[39;00m\n",
      "\u001b[36mFile \u001b[39m\u001b[32m~/.pyenv/versions/raydev/lib/python3.11/site-packages/ray/data/iterator.py:154\u001b[39m, in \u001b[36mDataIterator.iter_batches.<locals>._create_iterator\u001b[39m\u001b[34m()\u001b[39m\n\u001b[32m    145\u001b[39m time_start = time.perf_counter()\n\u001b[32m    146\u001b[39m \u001b[38;5;66;03m# Iterate through the dataset from the start each time\u001b[39;00m\n\u001b[32m    147\u001b[39m \u001b[38;5;66;03m# _iterator_gen is called.\u001b[39;00m\n\u001b[32m    148\u001b[39m \u001b[38;5;66;03m# This allows multiple iterations of the dataset without\u001b[39;00m\n\u001b[32m    149\u001b[39m \u001b[38;5;66;03m# needing to explicitly call `iter_batches()` multiple times.\u001b[39;00m\n\u001b[32m    150\u001b[39m (\n\u001b[32m    151\u001b[39m     ref_bundles_iterator,\n\u001b[32m    152\u001b[39m     stats,\n\u001b[32m    153\u001b[39m     blocks_owned_by_consumer,\n\u001b[32m--> \u001b[39m\u001b[32m154\u001b[39m ) = \u001b[38;5;28;43mself\u001b[39;49m\u001b[43m.\u001b[49m\u001b[43m_to_ref_bundle_iterator\u001b[49m\u001b[43m(\u001b[49m\u001b[43m)\u001b[49m\n\u001b[32m    156\u001b[39m iterator = \u001b[38;5;28miter\u001b[39m(\n\u001b[32m    157\u001b[39m     iter_batches(\n\u001b[32m    158\u001b[39m         ref_bundles_iterator,\n\u001b[32m   (...)\u001b[39m\u001b[32m    169\u001b[39m     )\n\u001b[32m    170\u001b[39m )\n\u001b[32m    172\u001b[39m dataset_tag = \u001b[38;5;28mself\u001b[39m._get_dataset_tag()\n",
      "\u001b[36mFile \u001b[39m\u001b[32m~/.pyenv/versions/raydev/lib/python3.11/site-packages/ray/data/_internal/iterator/iterator_impl.py:28\u001b[39m, in \u001b[36mDataIteratorImpl._to_ref_bundle_iterator\u001b[39m\u001b[34m(self)\u001b[39m\n\u001b[32m     24\u001b[39m \u001b[38;5;28;01mdef\u001b[39;00m\u001b[38;5;250m \u001b[39m\u001b[34m_to_ref_bundle_iterator\u001b[39m(\n\u001b[32m     25\u001b[39m     \u001b[38;5;28mself\u001b[39m,\n\u001b[32m     26\u001b[39m ) -> Tuple[Iterator[RefBundle], Optional[DatasetStats], \u001b[38;5;28mbool\u001b[39m]:\n\u001b[32m     27\u001b[39m     ds = \u001b[38;5;28mself\u001b[39m._base_dataset\n\u001b[32m---> \u001b[39m\u001b[32m28\u001b[39m     ref_bundles_iterator, stats, executor = \u001b[43mds\u001b[49m\u001b[43m.\u001b[49m\u001b[43m_plan\u001b[49m\u001b[43m.\u001b[49m\u001b[43mexecute_to_iterator\u001b[49m\u001b[43m(\u001b[49m\u001b[43m)\u001b[49m\n\u001b[32m     29\u001b[39m     ds._current_executor = executor\n\u001b[32m     30\u001b[39m     \u001b[38;5;28;01mreturn\u001b[39;00m ref_bundles_iterator, stats, \u001b[38;5;28;01mFalse\u001b[39;00m\n",
      "\u001b[36mFile \u001b[39m\u001b[32m~/.pyenv/versions/raydev/lib/python3.11/site-packages/ray/data/exceptions.py:89\u001b[39m, in \u001b[36momit_traceback_stdout.<locals>.handle_trace\u001b[39m\u001b[34m(*args, **kwargs)\u001b[39m\n\u001b[32m     87\u001b[39m     \u001b[38;5;28;01mraise\u001b[39;00m e.with_traceback(\u001b[38;5;28;01mNone\u001b[39;00m)\n\u001b[32m     88\u001b[39m \u001b[38;5;28;01melse\u001b[39;00m:\n\u001b[32m---> \u001b[39m\u001b[32m89\u001b[39m     \u001b[38;5;28;01mraise\u001b[39;00m e.with_traceback(\u001b[38;5;28;01mNone\u001b[39;00m) \u001b[38;5;28;01mfrom\u001b[39;00m\u001b[38;5;250m \u001b[39m\u001b[34;01mSystemException\u001b[39;00m()\n",
      "\u001b[31mTypeError\u001b[39m: __init__() got an unexpected keyword argument 'check_directory_existence_before_creation'"
     ]
    }
   ],
   "source": [
    "from typing import Dict\n",
    "import numpy as np\n",
    "import ray\n",
    "\n",
    "# Create datasets from on-disk files, Python objects, and cloud storage like S3.\n",
    "ds = ray.data.read_csv(\"s3://anonymous@ray-example-data/iris.csv\")\n",
    "\n",
    "# Apply functions to transform data. Ray Data executes transformations in parallel.\n",
    "def compute_area(batch: Dict[str, np.ndarray]) -> Dict[str, np.ndarray]:\n",
    "    length = batch[\"petal length (cm)\"]\n",
    "    width = batch[\"petal width (cm)\"]\n",
    "    batch[\"petal area (cm^2)\"] = length * width\n",
    "    return batch\n",
    "\n",
    "transformed_ds = ds.map_batches(compute_area)\n",
    "\n",
    "# Iterate over batches of data.\n",
    "for batch in transformed_ds.iter_batches(batch_size=4):\n",
    "    print(batch)\n",
    "\n",
    "# Save dataset contents to on-disk files or cloud storage.\n",
    "transformed_ds.write_parquet(\"local:///tmp/iris/\")"
   ]
  }
 ],
 "metadata": {
  "kernelspec": {
   "display_name": "raydev",
   "language": "python",
   "name": "python3"
  },
  "language_info": {
   "codemirror_mode": {
    "name": "ipython",
    "version": 3
   },
   "file_extension": ".py",
   "mimetype": "text/x-python",
   "name": "python",
   "nbconvert_exporter": "python",
   "pygments_lexer": "ipython3",
   "version": "3.11.11"
  }
 },
 "nbformat": 4,
 "nbformat_minor": 5
}
